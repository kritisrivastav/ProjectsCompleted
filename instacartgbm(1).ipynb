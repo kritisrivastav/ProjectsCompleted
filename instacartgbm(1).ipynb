{
  "nbformat": 4,
  "nbformat_minor": 0,
  "metadata": {
    "kernelspec": {
      "display_name": "Python 3",
      "language": "python",
      "name": "python3"
    },
    "language_info": {
      "codemirror_mode": {
        "name": "ipython",
        "version": 3
      },
      "file_extension": ".py",
      "mimetype": "text/x-python",
      "name": "python",
      "nbconvert_exporter": "python",
      "pygments_lexer": "ipython3",
      "version": "3.7.0"
    },
    "colab": {
      "name": "instacartgbm(1).ipynb",
      "provenance": []
    }
  },
  "cells": [
    {
      "cell_type": "code",
      "metadata": {
        "_cell_guid": "b1076dfc-b9ad-4769-8c92-a6c4dae69d19",
        "_uuid": "8f2839f25d086af736a60e9eeb907d3b93b6e0e5",
        "id": "Pz4MJj_71ovV",
        "colab_type": "code",
        "colab": {}
      },
      "source": [
        "\n",
        "import numpy as np\n",
        "import pandas as pd"
      ],
      "execution_count": 0,
      "outputs": []
    },
    {
      "cell_type": "code",
      "metadata": {
        "id": "QTeTTgRm1ovb",
        "colab_type": "code",
        "colab": {}
      },
      "source": [
        "all_products = pd.read_csv('products.csv')\n",
        "all_orders = pd.read_csv('orders.csv')\n",
        "prior_orders = pd.read_csv('order_products__prior.csv')\n",
        "train_set = pd.read_csv('order_products__train.csv')"
      ],
      "execution_count": 0,
      "outputs": []
    },
    {
      "cell_type": "code",
      "metadata": {
        "id": "dHgIb_x81ove",
        "colab_type": "code",
        "colab": {}
      },
      "source": [
        "prior_orders_extended = prior_orders.merge(all_orders,on='order_id',how='left')"
      ],
      "execution_count": 0,
      "outputs": []
    },
    {
      "cell_type": "markdown",
      "metadata": {
        "id": "zRXNU6Ez1ovh",
        "colab_type": "text"
      },
      "source": [
        "## FEATURES"
      ]
    },
    {
      "cell_type": "code",
      "metadata": {
        "id": "pVuP-9J61ovi",
        "colab_type": "code",
        "outputId": "4ed40b94-38aa-4e7c-85cb-4907cf6dde9b",
        "colab": {}
      },
      "source": [
        "prior_orders_extended.columns"
      ],
      "execution_count": 0,
      "outputs": [
        {
          "output_type": "execute_result",
          "data": {
            "text/plain": [
              "Index(['order_id', 'product_id', 'add_to_cart_order', 'reordered', 'user_id',\n",
              "       'eval_set', 'order_number', 'order_dow', 'order_hour_of_day',\n",
              "       'days_since_prior_order'],\n",
              "      dtype='object')"
            ]
          },
          "metadata": {
            "tags": []
          },
          "execution_count": 4
        }
      ]
    },
    {
      "cell_type": "code",
      "metadata": {
        "id": "EYnoDYfb1owP",
        "colab_type": "code",
        "outputId": "b423bacb-a222-4ce8-a778-d6d95311e55a",
        "colab": {}
      },
      "source": [
        "prior_orders_extended.head()"
      ],
      "execution_count": 0,
      "outputs": [
        {
          "output_type": "execute_result",
          "data": {
            "text/html": [
              "<div>\n",
              "<style scoped>\n",
              "    .dataframe tbody tr th:only-of-type {\n",
              "        vertical-align: middle;\n",
              "    }\n",
              "\n",
              "    .dataframe tbody tr th {\n",
              "        vertical-align: top;\n",
              "    }\n",
              "\n",
              "    .dataframe thead th {\n",
              "        text-align: right;\n",
              "    }\n",
              "</style>\n",
              "<table border=\"1\" class=\"dataframe\">\n",
              "  <thead>\n",
              "    <tr style=\"text-align: right;\">\n",
              "      <th></th>\n",
              "      <th>order_id</th>\n",
              "      <th>product_id</th>\n",
              "      <th>add_to_cart_order</th>\n",
              "      <th>reordered</th>\n",
              "      <th>user_id</th>\n",
              "      <th>eval_set</th>\n",
              "      <th>order_number</th>\n",
              "      <th>order_dow</th>\n",
              "      <th>order_hour_of_day</th>\n",
              "      <th>days_since_prior_order</th>\n",
              "    </tr>\n",
              "  </thead>\n",
              "  <tbody>\n",
              "    <tr>\n",
              "      <th>0</th>\n",
              "      <td>2</td>\n",
              "      <td>33120</td>\n",
              "      <td>1</td>\n",
              "      <td>1</td>\n",
              "      <td>202279</td>\n",
              "      <td>prior</td>\n",
              "      <td>3</td>\n",
              "      <td>5</td>\n",
              "      <td>9</td>\n",
              "      <td>8.0</td>\n",
              "    </tr>\n",
              "    <tr>\n",
              "      <th>1</th>\n",
              "      <td>2</td>\n",
              "      <td>28985</td>\n",
              "      <td>2</td>\n",
              "      <td>1</td>\n",
              "      <td>202279</td>\n",
              "      <td>prior</td>\n",
              "      <td>3</td>\n",
              "      <td>5</td>\n",
              "      <td>9</td>\n",
              "      <td>8.0</td>\n",
              "    </tr>\n",
              "    <tr>\n",
              "      <th>2</th>\n",
              "      <td>2</td>\n",
              "      <td>9327</td>\n",
              "      <td>3</td>\n",
              "      <td>0</td>\n",
              "      <td>202279</td>\n",
              "      <td>prior</td>\n",
              "      <td>3</td>\n",
              "      <td>5</td>\n",
              "      <td>9</td>\n",
              "      <td>8.0</td>\n",
              "    </tr>\n",
              "    <tr>\n",
              "      <th>3</th>\n",
              "      <td>2</td>\n",
              "      <td>45918</td>\n",
              "      <td>4</td>\n",
              "      <td>1</td>\n",
              "      <td>202279</td>\n",
              "      <td>prior</td>\n",
              "      <td>3</td>\n",
              "      <td>5</td>\n",
              "      <td>9</td>\n",
              "      <td>8.0</td>\n",
              "    </tr>\n",
              "    <tr>\n",
              "      <th>4</th>\n",
              "      <td>2</td>\n",
              "      <td>30035</td>\n",
              "      <td>5</td>\n",
              "      <td>0</td>\n",
              "      <td>202279</td>\n",
              "      <td>prior</td>\n",
              "      <td>3</td>\n",
              "      <td>5</td>\n",
              "      <td>9</td>\n",
              "      <td>8.0</td>\n",
              "    </tr>\n",
              "  </tbody>\n",
              "</table>\n",
              "</div>"
            ],
            "text/plain": [
              "   order_id           ...            days_since_prior_order\n",
              "0         2           ...                               8.0\n",
              "1         2           ...                               8.0\n",
              "2         2           ...                               8.0\n",
              "3         2           ...                               8.0\n",
              "4         2           ...                               8.0\n",
              "\n",
              "[5 rows x 10 columns]"
            ]
          },
          "metadata": {
            "tags": []
          },
          "execution_count": 5
        }
      ]
    },
    {
      "cell_type": "markdown",
      "metadata": {
        "id": "NJmWtnhk1owU",
        "colab_type": "text"
      },
      "source": [
        "### CUSTOMER"
      ]
    },
    {
      "cell_type": "code",
      "metadata": {
        "id": "ZLawGnQw1owW",
        "colab_type": "code",
        "outputId": "a2aaf274-5408-427c-cbec-d3a22d375b6b",
        "colab": {}
      },
      "source": [
        "cust_attribs1 = prior_orders_extended.groupby('user_id').agg({'product_id':['count','nunique'],'order_id':'nunique','reordered':'sum'})\n",
        "cust_attribs1.columns = cust_attribs1.columns.map('_'.join)\n",
        "cust_attribs1 = cust_attribs1.reset_index().rename(columns=\\\n",
        "    {'product_id_count':'total_basket_size','product_id_nunique':'unique_basket_size','order_id_nunique':'user_num_prior_orders','reordered_sum':'reordered_basket_size'})\n",
        "cust_attribs1.head()"
      ],
      "execution_count": 0,
      "outputs": [
        {
          "output_type": "execute_result",
          "data": {
            "text/html": [
              "<div>\n",
              "<style scoped>\n",
              "    .dataframe tbody tr th:only-of-type {\n",
              "        vertical-align: middle;\n",
              "    }\n",
              "\n",
              "    .dataframe tbody tr th {\n",
              "        vertical-align: top;\n",
              "    }\n",
              "\n",
              "    .dataframe thead th {\n",
              "        text-align: right;\n",
              "    }\n",
              "</style>\n",
              "<table border=\"1\" class=\"dataframe\">\n",
              "  <thead>\n",
              "    <tr style=\"text-align: right;\">\n",
              "      <th></th>\n",
              "      <th>user_id</th>\n",
              "      <th>total_basket_size</th>\n",
              "      <th>unique_basket_size</th>\n",
              "      <th>user_num_prior_orders</th>\n",
              "      <th>reordered_basket_size</th>\n",
              "    </tr>\n",
              "  </thead>\n",
              "  <tbody>\n",
              "    <tr>\n",
              "      <th>0</th>\n",
              "      <td>1</td>\n",
              "      <td>59</td>\n",
              "      <td>18</td>\n",
              "      <td>10</td>\n",
              "      <td>41</td>\n",
              "    </tr>\n",
              "    <tr>\n",
              "      <th>1</th>\n",
              "      <td>2</td>\n",
              "      <td>195</td>\n",
              "      <td>102</td>\n",
              "      <td>14</td>\n",
              "      <td>93</td>\n",
              "    </tr>\n",
              "    <tr>\n",
              "      <th>2</th>\n",
              "      <td>3</td>\n",
              "      <td>88</td>\n",
              "      <td>33</td>\n",
              "      <td>12</td>\n",
              "      <td>55</td>\n",
              "    </tr>\n",
              "    <tr>\n",
              "      <th>3</th>\n",
              "      <td>4</td>\n",
              "      <td>18</td>\n",
              "      <td>17</td>\n",
              "      <td>5</td>\n",
              "      <td>1</td>\n",
              "    </tr>\n",
              "    <tr>\n",
              "      <th>4</th>\n",
              "      <td>5</td>\n",
              "      <td>37</td>\n",
              "      <td>23</td>\n",
              "      <td>4</td>\n",
              "      <td>14</td>\n",
              "    </tr>\n",
              "  </tbody>\n",
              "</table>\n",
              "</div>"
            ],
            "text/plain": [
              "   user_id          ...            reordered_basket_size\n",
              "0        1          ...                               41\n",
              "1        2          ...                               93\n",
              "2        3          ...                               55\n",
              "3        4          ...                                1\n",
              "4        5          ...                               14\n",
              "\n",
              "[5 rows x 5 columns]"
            ]
          },
          "metadata": {
            "tags": []
          },
          "execution_count": 6
        }
      ]
    },
    {
      "cell_type": "code",
      "metadata": {
        "id": "RIGjPyKh1owb",
        "colab_type": "code",
        "outputId": "0805f1ad-de25-4e1a-e49d-b5acbedffafb",
        "colab": {}
      },
      "source": [
        "cust_attribs3 = all_orders.groupby('user_id').agg({'days_since_prior_order' : 'mean','order_id':'count'})\n",
        "cust_attribs3 = cust_attribs3.reset_index().rename(columns=\\\n",
        "    {'days_since_prior_order':'user_avg_frequency','order_id':'user_num_orders'})\n",
        "cust_attribs3.head()"
      ],
      "execution_count": 0,
      "outputs": [
        {
          "output_type": "execute_result",
          "data": {
            "text/html": [
              "<div>\n",
              "<style scoped>\n",
              "    .dataframe tbody tr th:only-of-type {\n",
              "        vertical-align: middle;\n",
              "    }\n",
              "\n",
              "    .dataframe tbody tr th {\n",
              "        vertical-align: top;\n",
              "    }\n",
              "\n",
              "    .dataframe thead th {\n",
              "        text-align: right;\n",
              "    }\n",
              "</style>\n",
              "<table border=\"1\" class=\"dataframe\">\n",
              "  <thead>\n",
              "    <tr style=\"text-align: right;\">\n",
              "      <th></th>\n",
              "      <th>user_id</th>\n",
              "      <th>user_avg_frequency</th>\n",
              "      <th>user_num_orders</th>\n",
              "    </tr>\n",
              "  </thead>\n",
              "  <tbody>\n",
              "    <tr>\n",
              "      <th>0</th>\n",
              "      <td>1</td>\n",
              "      <td>19.000000</td>\n",
              "      <td>11</td>\n",
              "    </tr>\n",
              "    <tr>\n",
              "      <th>1</th>\n",
              "      <td>2</td>\n",
              "      <td>16.285714</td>\n",
              "      <td>15</td>\n",
              "    </tr>\n",
              "    <tr>\n",
              "      <th>2</th>\n",
              "      <td>3</td>\n",
              "      <td>12.000000</td>\n",
              "      <td>13</td>\n",
              "    </tr>\n",
              "    <tr>\n",
              "      <th>3</th>\n",
              "      <td>4</td>\n",
              "      <td>17.000000</td>\n",
              "      <td>6</td>\n",
              "    </tr>\n",
              "    <tr>\n",
              "      <th>4</th>\n",
              "      <td>5</td>\n",
              "      <td>11.500000</td>\n",
              "      <td>5</td>\n",
              "    </tr>\n",
              "  </tbody>\n",
              "</table>\n",
              "</div>"
            ],
            "text/plain": [
              "   user_id  user_avg_frequency  user_num_orders\n",
              "0        1           19.000000               11\n",
              "1        2           16.285714               15\n",
              "2        3           12.000000               13\n",
              "3        4           17.000000                6\n",
              "4        5           11.500000                5"
            ]
          },
          "metadata": {
            "tags": []
          },
          "execution_count": 8
        }
      ]
    },
    {
      "cell_type": "code",
      "metadata": {
        "id": "HjOsjtGU1owg",
        "colab_type": "code",
        "outputId": "279e3fa1-9dfd-47c4-a363-79df91d590ff",
        "colab": {}
      },
      "source": [
        "\n",
        "cust_attribs = cust_attribs1.merge(cust_attribs3,how='left',on='user_id')\n",
        "del cust_attribs1,cust_attribs3\n",
        "\n",
        "cust_attribs['average_basket_size'] = cust_attribs['total_basket_size']/cust_attribs['user_num_prior_orders']\n",
        "cust_attribs['user_repeatability'] = cust_attribs['reordered_basket_size']/cust_attribs['total_basket_size']\n",
        "cust_attribs.head()"
      ],
      "execution_count": 0,
      "outputs": [
        {
          "output_type": "execute_result",
          "data": {
            "text/html": [
              "<div>\n",
              "<style scoped>\n",
              "    .dataframe tbody tr th:only-of-type {\n",
              "        vertical-align: middle;\n",
              "    }\n",
              "\n",
              "    .dataframe tbody tr th {\n",
              "        vertical-align: top;\n",
              "    }\n",
              "\n",
              "    .dataframe thead th {\n",
              "        text-align: right;\n",
              "    }\n",
              "</style>\n",
              "<table border=\"1\" class=\"dataframe\">\n",
              "  <thead>\n",
              "    <tr style=\"text-align: right;\">\n",
              "      <th></th>\n",
              "      <th>user_id</th>\n",
              "      <th>total_basket_size</th>\n",
              "      <th>unique_basket_size</th>\n",
              "      <th>user_num_prior_orders</th>\n",
              "      <th>reordered_basket_size</th>\n",
              "      <th>user_avg_frequency</th>\n",
              "      <th>user_num_orders</th>\n",
              "      <th>average_basket_size</th>\n",
              "      <th>user_repeatability</th>\n",
              "    </tr>\n",
              "  </thead>\n",
              "  <tbody>\n",
              "    <tr>\n",
              "      <th>0</th>\n",
              "      <td>1</td>\n",
              "      <td>59</td>\n",
              "      <td>18</td>\n",
              "      <td>10</td>\n",
              "      <td>41</td>\n",
              "      <td>19.000000</td>\n",
              "      <td>11</td>\n",
              "      <td>5.900000</td>\n",
              "      <td>0.694915</td>\n",
              "    </tr>\n",
              "    <tr>\n",
              "      <th>1</th>\n",
              "      <td>2</td>\n",
              "      <td>195</td>\n",
              "      <td>102</td>\n",
              "      <td>14</td>\n",
              "      <td>93</td>\n",
              "      <td>16.285714</td>\n",
              "      <td>15</td>\n",
              "      <td>13.928571</td>\n",
              "      <td>0.476923</td>\n",
              "    </tr>\n",
              "    <tr>\n",
              "      <th>2</th>\n",
              "      <td>3</td>\n",
              "      <td>88</td>\n",
              "      <td>33</td>\n",
              "      <td>12</td>\n",
              "      <td>55</td>\n",
              "      <td>12.000000</td>\n",
              "      <td>13</td>\n",
              "      <td>7.333333</td>\n",
              "      <td>0.625000</td>\n",
              "    </tr>\n",
              "    <tr>\n",
              "      <th>3</th>\n",
              "      <td>4</td>\n",
              "      <td>18</td>\n",
              "      <td>17</td>\n",
              "      <td>5</td>\n",
              "      <td>1</td>\n",
              "      <td>17.000000</td>\n",
              "      <td>6</td>\n",
              "      <td>3.600000</td>\n",
              "      <td>0.055556</td>\n",
              "    </tr>\n",
              "    <tr>\n",
              "      <th>4</th>\n",
              "      <td>5</td>\n",
              "      <td>37</td>\n",
              "      <td>23</td>\n",
              "      <td>4</td>\n",
              "      <td>14</td>\n",
              "      <td>11.500000</td>\n",
              "      <td>5</td>\n",
              "      <td>9.250000</td>\n",
              "      <td>0.378378</td>\n",
              "    </tr>\n",
              "  </tbody>\n",
              "</table>\n",
              "</div>"
            ],
            "text/plain": [
              "   user_id         ...          user_repeatability\n",
              "0        1         ...                    0.694915\n",
              "1        2         ...                    0.476923\n",
              "2        3         ...                    0.625000\n",
              "3        4         ...                    0.055556\n",
              "4        5         ...                    0.378378\n",
              "\n",
              "[5 rows x 9 columns]"
            ]
          },
          "metadata": {
            "tags": []
          },
          "execution_count": 9
        }
      ]
    },
    {
      "cell_type": "markdown",
      "metadata": {
        "id": "LnMP0Wif1owl",
        "colab_type": "text"
      },
      "source": [
        "### CUST-PRODUCT"
      ]
    },
    {
      "cell_type": "code",
      "metadata": {
        "id": "exFbBhrH1own",
        "colab_type": "code",
        "outputId": "69083d87-7f71-43cf-f3a8-9c5c622eeaed",
        "colab": {}
      },
      "source": [
        "t = prior_orders_extended.groupby(['user_id','product_id']).agg({'order_number':['max','count'],'add_to_cart_order':'mean','reordered':'sum'})\n",
        "t.columns = t.columns.map('_'.join)\n",
        "t = t.reset_index().rename(columns=\\\n",
        "    {'order_number_max':'user_prod_last_order_num','order_number_count':'user_prod_num_orders',\\\n",
        "     'add_to_cart_order_mean':'avg_prod_basket_position','reordered_sum':'user_prod_num_reorders'})\n",
        "t.head()"
      ],
      "execution_count": 0,
      "outputs": [
        {
          "output_type": "execute_result",
          "data": {
            "text/html": [
              "<div>\n",
              "<style scoped>\n",
              "    .dataframe tbody tr th:only-of-type {\n",
              "        vertical-align: middle;\n",
              "    }\n",
              "\n",
              "    .dataframe tbody tr th {\n",
              "        vertical-align: top;\n",
              "    }\n",
              "\n",
              "    .dataframe thead th {\n",
              "        text-align: right;\n",
              "    }\n",
              "</style>\n",
              "<table border=\"1\" class=\"dataframe\">\n",
              "  <thead>\n",
              "    <tr style=\"text-align: right;\">\n",
              "      <th></th>\n",
              "      <th>user_id</th>\n",
              "      <th>product_id</th>\n",
              "      <th>user_prod_last_order_num</th>\n",
              "      <th>user_prod_num_orders</th>\n",
              "      <th>avg_prod_basket_position</th>\n",
              "      <th>user_prod_num_reorders</th>\n",
              "    </tr>\n",
              "  </thead>\n",
              "  <tbody>\n",
              "    <tr>\n",
              "      <th>0</th>\n",
              "      <td>1</td>\n",
              "      <td>196</td>\n",
              "      <td>10</td>\n",
              "      <td>10</td>\n",
              "      <td>1.400000</td>\n",
              "      <td>9</td>\n",
              "    </tr>\n",
              "    <tr>\n",
              "      <th>1</th>\n",
              "      <td>1</td>\n",
              "      <td>10258</td>\n",
              "      <td>10</td>\n",
              "      <td>9</td>\n",
              "      <td>3.333333</td>\n",
              "      <td>8</td>\n",
              "    </tr>\n",
              "    <tr>\n",
              "      <th>2</th>\n",
              "      <td>1</td>\n",
              "      <td>10326</td>\n",
              "      <td>5</td>\n",
              "      <td>1</td>\n",
              "      <td>5.000000</td>\n",
              "      <td>0</td>\n",
              "    </tr>\n",
              "    <tr>\n",
              "      <th>3</th>\n",
              "      <td>1</td>\n",
              "      <td>12427</td>\n",
              "      <td>10</td>\n",
              "      <td>10</td>\n",
              "      <td>3.300000</td>\n",
              "      <td>9</td>\n",
              "    </tr>\n",
              "    <tr>\n",
              "      <th>4</th>\n",
              "      <td>1</td>\n",
              "      <td>13032</td>\n",
              "      <td>10</td>\n",
              "      <td>3</td>\n",
              "      <td>6.333333</td>\n",
              "      <td>2</td>\n",
              "    </tr>\n",
              "  </tbody>\n",
              "</table>\n",
              "</div>"
            ],
            "text/plain": [
              "   user_id           ...            user_prod_num_reorders\n",
              "0        1           ...                                 9\n",
              "1        1           ...                                 8\n",
              "2        1           ...                                 0\n",
              "3        1           ...                                 9\n",
              "4        1           ...                                 2\n",
              "\n",
              "[5 rows x 6 columns]"
            ]
          },
          "metadata": {
            "tags": []
          },
          "execution_count": 10
        }
      ]
    },
    {
      "cell_type": "code",
      "metadata": {
        "id": "mwKWeLvF1oxf",
        "colab_type": "code",
        "outputId": "f99173fd-3aae-4899-db19-2535058b401c",
        "colab": {}
      },
      "source": [
        "user_prod_attribs = prior_orders_extended[['user_id','product_id','order_id','order_number']].merge(t,how='inner',left_on=['user_id','product_id','order_number'],right_on=['user_id','product_id','user_prod_last_order_num'])\n",
        "user_prod_attribs.head()"
      ],
      "execution_count": 0,
      "outputs": [
        {
          "output_type": "execute_result",
          "data": {
            "text/html": [
              "<div>\n",
              "<style scoped>\n",
              "    .dataframe tbody tr th:only-of-type {\n",
              "        vertical-align: middle;\n",
              "    }\n",
              "\n",
              "    .dataframe tbody tr th {\n",
              "        vertical-align: top;\n",
              "    }\n",
              "\n",
              "    .dataframe thead th {\n",
              "        text-align: right;\n",
              "    }\n",
              "</style>\n",
              "<table border=\"1\" class=\"dataframe\">\n",
              "  <thead>\n",
              "    <tr style=\"text-align: right;\">\n",
              "      <th></th>\n",
              "      <th>user_id</th>\n",
              "      <th>product_id</th>\n",
              "      <th>order_id</th>\n",
              "      <th>order_number</th>\n",
              "      <th>user_prod_last_order_num</th>\n",
              "      <th>user_prod_num_orders</th>\n",
              "      <th>avg_prod_basket_position</th>\n",
              "      <th>user_prod_num_reorders</th>\n",
              "    </tr>\n",
              "  </thead>\n",
              "  <tbody>\n",
              "    <tr>\n",
              "      <th>0</th>\n",
              "      <td>202279</td>\n",
              "      <td>9327</td>\n",
              "      <td>2</td>\n",
              "      <td>3</td>\n",
              "      <td>3</td>\n",
              "      <td>1</td>\n",
              "      <td>3.0000</td>\n",
              "      <td>0</td>\n",
              "    </tr>\n",
              "    <tr>\n",
              "      <th>1</th>\n",
              "      <td>202279</td>\n",
              "      <td>1819</td>\n",
              "      <td>2</td>\n",
              "      <td>3</td>\n",
              "      <td>3</td>\n",
              "      <td>2</td>\n",
              "      <td>9.5000</td>\n",
              "      <td>1</td>\n",
              "    </tr>\n",
              "    <tr>\n",
              "      <th>2</th>\n",
              "      <td>205970</td>\n",
              "      <td>17668</td>\n",
              "      <td>3</td>\n",
              "      <td>16</td>\n",
              "      <td>16</td>\n",
              "      <td>6</td>\n",
              "      <td>9.0000</td>\n",
              "      <td>5</td>\n",
              "    </tr>\n",
              "    <tr>\n",
              "      <th>3</th>\n",
              "      <td>156122</td>\n",
              "      <td>9633</td>\n",
              "      <td>5</td>\n",
              "      <td>42</td>\n",
              "      <td>42</td>\n",
              "      <td>16</td>\n",
              "      <td>10.8125</td>\n",
              "      <td>15</td>\n",
              "    </tr>\n",
              "    <tr>\n",
              "      <th>4</th>\n",
              "      <td>156122</td>\n",
              "      <td>12962</td>\n",
              "      <td>5</td>\n",
              "      <td>42</td>\n",
              "      <td>42</td>\n",
              "      <td>5</td>\n",
              "      <td>17.2000</td>\n",
              "      <td>4</td>\n",
              "    </tr>\n",
              "  </tbody>\n",
              "</table>\n",
              "</div>"
            ],
            "text/plain": [
              "   user_id           ...            user_prod_num_reorders\n",
              "0   202279           ...                                 0\n",
              "1   202279           ...                                 1\n",
              "2   205970           ...                                 5\n",
              "3   156122           ...                                15\n",
              "4   156122           ...                                 4\n",
              "\n",
              "[5 rows x 8 columns]"
            ]
          },
          "metadata": {
            "tags": []
          },
          "execution_count": 11
        }
      ]
    },
    {
      "cell_type": "markdown",
      "metadata": {
        "id": "lZnC8xWB1oxk",
        "colab_type": "text"
      },
      "source": [
        "User product frequency would make more sense than user average frequency, as quantity of product is not given. Eg. A users usual order quanity can 1 kg of Pulses which he orders once a week, another's might be 2 kg ordered once in two weeks. So this might be a valuable feature. //Work later on bringing this - requires quite a bit of tweaking as order dates are not given as timestamps"
      ]
    },
    {
      "cell_type": "code",
      "metadata": {
        "id": "hHtdmXaJ1oxm",
        "colab_type": "code",
        "colab": {}
      },
      "source": [
        "user_prod_attribs.drop('order_number',axis=1,inplace=True)\n",
        "user_prod_attribs.rename(columns={'order_id':'user_prod_last_order_id'},inplace=True)\n",
        "user_prod_attribs['user_prod_repeatability'] = user_prod_attribs['user_prod_num_reorders']/ \\\n",
        "    user_prod_attribs['user_prod_num_orders']"
      ],
      "execution_count": 0,
      "outputs": []
    },
    {
      "cell_type": "markdown",
      "metadata": {
        "id": "Mso5wsuZ1oxq",
        "colab_type": "text"
      },
      "source": [
        "### PRODUCT"
      ]
    },
    {
      "cell_type": "code",
      "metadata": {
        "id": "0A9F5dxB1oxt",
        "colab_type": "code",
        "outputId": "ce6418c5-866c-4591-c70b-39cc74a26c75",
        "colab": {}
      },
      "source": [
        "prod_attribs = prior_orders_extended.groupby('product_id').agg({'reordered':['sum','count']})\n",
        "prod_attribs.columns = prod_attribs.columns.map('_'.join)\n",
        "prod_attribs = prod_attribs.reset_index().rename(columns=\\\n",
        "    {'reordered_sum':'prod_num_reorders','reordered_count':'prod_num_orders'})\n",
        "prod_attribs['prod_repeatability'] = prod_attribs['prod_num_reorders']/ \\\n",
        "    prod_attribs['prod_num_orders']\n",
        "prod_attribs.head()"
      ],
      "execution_count": 0,
      "outputs": [
        {
          "output_type": "execute_result",
          "data": {
            "text/html": [
              "<div>\n",
              "<style scoped>\n",
              "    .dataframe tbody tr th:only-of-type {\n",
              "        vertical-align: middle;\n",
              "    }\n",
              "\n",
              "    .dataframe tbody tr th {\n",
              "        vertical-align: top;\n",
              "    }\n",
              "\n",
              "    .dataframe thead th {\n",
              "        text-align: right;\n",
              "    }\n",
              "</style>\n",
              "<table border=\"1\" class=\"dataframe\">\n",
              "  <thead>\n",
              "    <tr style=\"text-align: right;\">\n",
              "      <th></th>\n",
              "      <th>product_id</th>\n",
              "      <th>prod_num_reorders</th>\n",
              "      <th>prod_num_orders</th>\n",
              "      <th>prod_repeatability</th>\n",
              "    </tr>\n",
              "  </thead>\n",
              "  <tbody>\n",
              "    <tr>\n",
              "      <th>0</th>\n",
              "      <td>1</td>\n",
              "      <td>1136</td>\n",
              "      <td>1852</td>\n",
              "      <td>0.613391</td>\n",
              "    </tr>\n",
              "    <tr>\n",
              "      <th>1</th>\n",
              "      <td>2</td>\n",
              "      <td>12</td>\n",
              "      <td>90</td>\n",
              "      <td>0.133333</td>\n",
              "    </tr>\n",
              "    <tr>\n",
              "      <th>2</th>\n",
              "      <td>3</td>\n",
              "      <td>203</td>\n",
              "      <td>277</td>\n",
              "      <td>0.732852</td>\n",
              "    </tr>\n",
              "    <tr>\n",
              "      <th>3</th>\n",
              "      <td>4</td>\n",
              "      <td>147</td>\n",
              "      <td>329</td>\n",
              "      <td>0.446809</td>\n",
              "    </tr>\n",
              "    <tr>\n",
              "      <th>4</th>\n",
              "      <td>5</td>\n",
              "      <td>9</td>\n",
              "      <td>15</td>\n",
              "      <td>0.600000</td>\n",
              "    </tr>\n",
              "  </tbody>\n",
              "</table>\n",
              "</div>"
            ],
            "text/plain": [
              "   product_id         ...          prod_repeatability\n",
              "0           1         ...                    0.613391\n",
              "1           2         ...                    0.133333\n",
              "2           3         ...                    0.732852\n",
              "3           4         ...                    0.446809\n",
              "4           5         ...                    0.600000\n",
              "\n",
              "[5 rows x 4 columns]"
            ]
          },
          "metadata": {
            "tags": []
          },
          "execution_count": 13
        }
      ]
    },
    {
      "cell_type": "markdown",
      "metadata": {
        "id": "RigPR9431oxz",
        "colab_type": "text"
      },
      "source": [
        "### PREPARING TRAINING DATA"
      ]
    },
    {
      "cell_type": "code",
      "metadata": {
        "id": "PHASrltr1ox1",
        "colab_type": "code",
        "outputId": "065a9d7a-ad96-4ae3-bda7-f63d5de0a56a",
        "colab": {}
      },
      "source": [
        "print(train_set.columns)\n",
        "test_orders = all_orders[all_orders.eval_set == 'test']\n",
        "train_orders = all_orders[all_orders.eval_set == 'train']\n",
        "all_orders.head()"
      ],
      "execution_count": 0,
      "outputs": [
        {
          "output_type": "stream",
          "text": [
            "Index(['order_id', 'product_id', 'add_to_cart_order', 'reordered'], dtype='object')\n"
          ],
          "name": "stdout"
        },
        {
          "output_type": "execute_result",
          "data": {
            "text/html": [
              "<div>\n",
              "<style scoped>\n",
              "    .dataframe tbody tr th:only-of-type {\n",
              "        vertical-align: middle;\n",
              "    }\n",
              "\n",
              "    .dataframe tbody tr th {\n",
              "        vertical-align: top;\n",
              "    }\n",
              "\n",
              "    .dataframe thead th {\n",
              "        text-align: right;\n",
              "    }\n",
              "</style>\n",
              "<table border=\"1\" class=\"dataframe\">\n",
              "  <thead>\n",
              "    <tr style=\"text-align: right;\">\n",
              "      <th></th>\n",
              "      <th>order_id</th>\n",
              "      <th>user_id</th>\n",
              "      <th>eval_set</th>\n",
              "      <th>order_number</th>\n",
              "      <th>order_dow</th>\n",
              "      <th>order_hour_of_day</th>\n",
              "      <th>days_since_prior_order</th>\n",
              "    </tr>\n",
              "  </thead>\n",
              "  <tbody>\n",
              "    <tr>\n",
              "      <th>0</th>\n",
              "      <td>2539329</td>\n",
              "      <td>1</td>\n",
              "      <td>prior</td>\n",
              "      <td>1</td>\n",
              "      <td>2</td>\n",
              "      <td>8</td>\n",
              "      <td>NaN</td>\n",
              "    </tr>\n",
              "    <tr>\n",
              "      <th>1</th>\n",
              "      <td>2398795</td>\n",
              "      <td>1</td>\n",
              "      <td>prior</td>\n",
              "      <td>2</td>\n",
              "      <td>3</td>\n",
              "      <td>7</td>\n",
              "      <td>15.0</td>\n",
              "    </tr>\n",
              "    <tr>\n",
              "      <th>2</th>\n",
              "      <td>473747</td>\n",
              "      <td>1</td>\n",
              "      <td>prior</td>\n",
              "      <td>3</td>\n",
              "      <td>3</td>\n",
              "      <td>12</td>\n",
              "      <td>21.0</td>\n",
              "    </tr>\n",
              "    <tr>\n",
              "      <th>3</th>\n",
              "      <td>2254736</td>\n",
              "      <td>1</td>\n",
              "      <td>prior</td>\n",
              "      <td>4</td>\n",
              "      <td>4</td>\n",
              "      <td>7</td>\n",
              "      <td>29.0</td>\n",
              "    </tr>\n",
              "    <tr>\n",
              "      <th>4</th>\n",
              "      <td>431534</td>\n",
              "      <td>1</td>\n",
              "      <td>prior</td>\n",
              "      <td>5</td>\n",
              "      <td>4</td>\n",
              "      <td>15</td>\n",
              "      <td>28.0</td>\n",
              "    </tr>\n",
              "  </tbody>\n",
              "</table>\n",
              "</div>"
            ],
            "text/plain": [
              "   order_id           ...            days_since_prior_order\n",
              "0   2539329           ...                               NaN\n",
              "1   2398795           ...                              15.0\n",
              "2    473747           ...                              21.0\n",
              "3   2254736           ...                              29.0\n",
              "4    431534           ...                              28.0\n",
              "\n",
              "[5 rows x 7 columns]"
            ]
          },
          "metadata": {
            "tags": []
          },
          "execution_count": 14
        }
      ]
    },
    {
      "cell_type": "code",
      "metadata": {
        "id": "IQ829LBk1ox7",
        "colab_type": "code",
        "outputId": "5f8705ef-9047-417c-d043-7e56b4c90682",
        "colab": {}
      },
      "source": [
        "print(\"Number of orders in train_set : \",train_set.order_id.nunique())\n",
        "print(\"Number of orders in train_orders : \",train_orders.order_id.nunique())\n",
        "print(\"Train set: \",train_set.shape)\n",
        "print(\"Train orders: \",train_orders.shape)"
      ],
      "execution_count": 0,
      "outputs": [
        {
          "output_type": "stream",
          "text": [
            "Number of orders in train_set :  131209\n",
            "Number of orders in train_orders :  131209\n",
            "Train set:  (1384617, 4)\n",
            "Train orders:  (131209, 7)\n"
          ],
          "name": "stdout"
        }
      ]
    },
    {
      "cell_type": "code",
      "metadata": {
        "id": "BVlHn41t1ox-",
        "colab_type": "code",
        "outputId": "906530e2-6347-447c-c4d9-d96b5dd5b4b8",
        "colab": {}
      },
      "source": [
        "train_set.reordered.value_counts()"
      ],
      "execution_count": 0,
      "outputs": [
        {
          "output_type": "execute_result",
          "data": {
            "text/plain": [
              "1    828824\n",
              "0    555793\n",
              "Name: reordered, dtype: int64"
            ]
          },
          "metadata": {
            "tags": []
          },
          "execution_count": 16
        }
      ]
    },
    {
      "cell_type": "markdown",
      "metadata": {
        "id": "R_65_kwn1oyC",
        "colab_type": "text"
      },
      "source": [
        "The training data set given and test data set dervied from orders have different columns. We'll pick order_id, product_id, reordered or not from the training set given, map it to train tagged data from all_orders set and there on add features which we generated. A user-product can be taken as index, rest as features and reordered/not as label and model can be trained."
      ]
    },
    {
      "cell_type": "code",
      "metadata": {
        "id": "XBIfbij61oyD",
        "colab_type": "code",
        "outputId": "c0c590af-5a0f-490c-f9b1-ee2246b33a08",
        "colab": {}
      },
      "source": [
        "train_df = train_set.merge(train_orders,how='left',on='order_id').\\\n",
        "    merge(prod_attribs,how='left',on='product_id').\\\n",
        "    merge(cust_attribs,how='left',on='user_id').\\\n",
        "    merge(all_products,how='left',on='product_id').\\\n",
        "    merge(user_prod_attribs,how='left',on=['user_id','product_id'])\n",
        "\n",
        "print(train_orders.shape)\n",
        "print(train_df.shape)\n",
        "print(train_df.columns)\n",
        "print(\"Number of orders in train_df : \",train_df.order_id.nunique())\n",
        "print(\"Number of users in train_df : \",train_df.user_id.nunique())\n",
        "print(\"Any NaNs in target var : \",sum(train_df.reordered != train_df.reordered))\n",
        "train_df.set_index(['user_id','product_id'],inplace=True)\n",
        "train_df.head()"
      ],
      "execution_count": 0,
      "outputs": [
        {
          "output_type": "stream",
          "text": [
            "(131209, 7)\n",
            "(1384617, 30)\n",
            "Index(['order_id', 'product_id', 'add_to_cart_order', 'reordered', 'user_id',\n",
            "       'eval_set', 'order_number', 'order_dow', 'order_hour_of_day',\n",
            "       'days_since_prior_order', 'prod_num_reorders', 'prod_num_orders',\n",
            "       'prod_repeatability', 'total_basket_size', 'unique_basket_size',\n",
            "       'user_num_prior_orders', 'reordered_basket_size', 'user_avg_frequency',\n",
            "       'user_num_orders', 'average_basket_size', 'user_repeatability',\n",
            "       'product_name', 'aisle_id', 'department_id', 'user_prod_last_order_id',\n",
            "       'user_prod_last_order_num', 'user_prod_num_orders',\n",
            "       'avg_prod_basket_position', 'user_prod_num_reorders',\n",
            "       'user_prod_repeatability'],\n",
            "      dtype='object')\n",
            "Number of orders in train_df :  131209\n",
            "Number of users in train_df :  131209\n",
            "Any NaNs in target var :  0\n"
          ],
          "name": "stdout"
        },
        {
          "output_type": "execute_result",
          "data": {
            "text/html": [
              "<div>\n",
              "<style scoped>\n",
              "    .dataframe tbody tr th:only-of-type {\n",
              "        vertical-align: middle;\n",
              "    }\n",
              "\n",
              "    .dataframe tbody tr th {\n",
              "        vertical-align: top;\n",
              "    }\n",
              "\n",
              "    .dataframe thead th {\n",
              "        text-align: right;\n",
              "    }\n",
              "</style>\n",
              "<table border=\"1\" class=\"dataframe\">\n",
              "  <thead>\n",
              "    <tr style=\"text-align: right;\">\n",
              "      <th></th>\n",
              "      <th></th>\n",
              "      <th>order_id</th>\n",
              "      <th>add_to_cart_order</th>\n",
              "      <th>reordered</th>\n",
              "      <th>eval_set</th>\n",
              "      <th>order_number</th>\n",
              "      <th>order_dow</th>\n",
              "      <th>order_hour_of_day</th>\n",
              "      <th>days_since_prior_order</th>\n",
              "      <th>prod_num_reorders</th>\n",
              "      <th>prod_num_orders</th>\n",
              "      <th>prod_repeatability</th>\n",
              "      <th>total_basket_size</th>\n",
              "      <th>unique_basket_size</th>\n",
              "      <th>user_num_prior_orders</th>\n",
              "      <th>reordered_basket_size</th>\n",
              "      <th>user_avg_frequency</th>\n",
              "      <th>user_num_orders</th>\n",
              "      <th>average_basket_size</th>\n",
              "      <th>user_repeatability</th>\n",
              "      <th>product_name</th>\n",
              "      <th>aisle_id</th>\n",
              "      <th>department_id</th>\n",
              "      <th>user_prod_last_order_id</th>\n",
              "      <th>user_prod_last_order_num</th>\n",
              "      <th>user_prod_num_orders</th>\n",
              "      <th>avg_prod_basket_position</th>\n",
              "      <th>user_prod_num_reorders</th>\n",
              "      <th>user_prod_repeatability</th>\n",
              "    </tr>\n",
              "    <tr>\n",
              "      <th>user_id</th>\n",
              "      <th>product_id</th>\n",
              "      <th></th>\n",
              "      <th></th>\n",
              "      <th></th>\n",
              "      <th></th>\n",
              "      <th></th>\n",
              "      <th></th>\n",
              "      <th></th>\n",
              "      <th></th>\n",
              "      <th></th>\n",
              "      <th></th>\n",
              "      <th></th>\n",
              "      <th></th>\n",
              "      <th></th>\n",
              "      <th></th>\n",
              "      <th></th>\n",
              "      <th></th>\n",
              "      <th></th>\n",
              "      <th></th>\n",
              "      <th></th>\n",
              "      <th></th>\n",
              "      <th></th>\n",
              "      <th></th>\n",
              "      <th></th>\n",
              "      <th></th>\n",
              "      <th></th>\n",
              "      <th></th>\n",
              "      <th></th>\n",
              "      <th></th>\n",
              "    </tr>\n",
              "  </thead>\n",
              "  <tbody>\n",
              "    <tr>\n",
              "      <th rowspan=\"5\" valign=\"top\">112108</th>\n",
              "      <th>49302</th>\n",
              "      <td>1</td>\n",
              "      <td>1</td>\n",
              "      <td>1</td>\n",
              "      <td>train</td>\n",
              "      <td>4</td>\n",
              "      <td>4</td>\n",
              "      <td>10</td>\n",
              "      <td>9.0</td>\n",
              "      <td>101.0</td>\n",
              "      <td>163.0</td>\n",
              "      <td>0.619632</td>\n",
              "      <td>21</td>\n",
              "      <td>12</td>\n",
              "      <td>3</td>\n",
              "      <td>9</td>\n",
              "      <td>10.333333</td>\n",
              "      <td>4</td>\n",
              "      <td>7.0</td>\n",
              "      <td>0.428571</td>\n",
              "      <td>Bulgarian Yogurt</td>\n",
              "      <td>120</td>\n",
              "      <td>16</td>\n",
              "      <td>2541372.0</td>\n",
              "      <td>2.0</td>\n",
              "      <td>2.0</td>\n",
              "      <td>2.5</td>\n",
              "      <td>1.0</td>\n",
              "      <td>0.5</td>\n",
              "    </tr>\n",
              "    <tr>\n",
              "      <th>11109</th>\n",
              "      <td>1</td>\n",
              "      <td>2</td>\n",
              "      <td>1</td>\n",
              "      <td>train</td>\n",
              "      <td>4</td>\n",
              "      <td>4</td>\n",
              "      <td>10</td>\n",
              "      <td>9.0</td>\n",
              "      <td>3192.0</td>\n",
              "      <td>4472.0</td>\n",
              "      <td>0.713775</td>\n",
              "      <td>21</td>\n",
              "      <td>12</td>\n",
              "      <td>3</td>\n",
              "      <td>9</td>\n",
              "      <td>10.333333</td>\n",
              "      <td>4</td>\n",
              "      <td>7.0</td>\n",
              "      <td>0.428571</td>\n",
              "      <td>Organic 4% Milk Fat Whole Milk Cottage Cheese</td>\n",
              "      <td>108</td>\n",
              "      <td>16</td>\n",
              "      <td>2541372.0</td>\n",
              "      <td>2.0</td>\n",
              "      <td>2.0</td>\n",
              "      <td>4.0</td>\n",
              "      <td>1.0</td>\n",
              "      <td>0.5</td>\n",
              "    </tr>\n",
              "    <tr>\n",
              "      <th>10246</th>\n",
              "      <td>1</td>\n",
              "      <td>3</td>\n",
              "      <td>0</td>\n",
              "      <td>train</td>\n",
              "      <td>4</td>\n",
              "      <td>4</td>\n",
              "      <td>10</td>\n",
              "      <td>9.0</td>\n",
              "      <td>12498.0</td>\n",
              "      <td>23826.0</td>\n",
              "      <td>0.524553</td>\n",
              "      <td>21</td>\n",
              "      <td>12</td>\n",
              "      <td>3</td>\n",
              "      <td>9</td>\n",
              "      <td>10.333333</td>\n",
              "      <td>4</td>\n",
              "      <td>7.0</td>\n",
              "      <td>0.428571</td>\n",
              "      <td>Organic Celery Hearts</td>\n",
              "      <td>83</td>\n",
              "      <td>4</td>\n",
              "      <td>NaN</td>\n",
              "      <td>NaN</td>\n",
              "      <td>NaN</td>\n",
              "      <td>NaN</td>\n",
              "      <td>NaN</td>\n",
              "      <td>NaN</td>\n",
              "    </tr>\n",
              "    <tr>\n",
              "      <th>49683</th>\n",
              "      <td>1</td>\n",
              "      <td>4</td>\n",
              "      <td>0</td>\n",
              "      <td>train</td>\n",
              "      <td>4</td>\n",
              "      <td>4</td>\n",
              "      <td>10</td>\n",
              "      <td>9.0</td>\n",
              "      <td>67313.0</td>\n",
              "      <td>97315.0</td>\n",
              "      <td>0.691702</td>\n",
              "      <td>21</td>\n",
              "      <td>12</td>\n",
              "      <td>3</td>\n",
              "      <td>9</td>\n",
              "      <td>10.333333</td>\n",
              "      <td>4</td>\n",
              "      <td>7.0</td>\n",
              "      <td>0.428571</td>\n",
              "      <td>Cucumber Kirby</td>\n",
              "      <td>83</td>\n",
              "      <td>4</td>\n",
              "      <td>NaN</td>\n",
              "      <td>NaN</td>\n",
              "      <td>NaN</td>\n",
              "      <td>NaN</td>\n",
              "      <td>NaN</td>\n",
              "      <td>NaN</td>\n",
              "    </tr>\n",
              "    <tr>\n",
              "      <th>43633</th>\n",
              "      <td>1</td>\n",
              "      <td>5</td>\n",
              "      <td>1</td>\n",
              "      <td>train</td>\n",
              "      <td>4</td>\n",
              "      <td>4</td>\n",
              "      <td>10</td>\n",
              "      <td>9.0</td>\n",
              "      <td>312.0</td>\n",
              "      <td>653.0</td>\n",
              "      <td>0.477795</td>\n",
              "      <td>21</td>\n",
              "      <td>12</td>\n",
              "      <td>3</td>\n",
              "      <td>9</td>\n",
              "      <td>10.333333</td>\n",
              "      <td>4</td>\n",
              "      <td>7.0</td>\n",
              "      <td>0.428571</td>\n",
              "      <td>Lightly Smoked Sardines in Olive Oil</td>\n",
              "      <td>95</td>\n",
              "      <td>15</td>\n",
              "      <td>186706.0</td>\n",
              "      <td>3.0</td>\n",
              "      <td>2.0</td>\n",
              "      <td>3.5</td>\n",
              "      <td>1.0</td>\n",
              "      <td>0.5</td>\n",
              "    </tr>\n",
              "  </tbody>\n",
              "</table>\n",
              "</div>"
            ],
            "text/plain": [
              "                    order_id           ...             user_prod_repeatability\n",
              "user_id product_id                     ...                                    \n",
              "112108  49302              1           ...                                 0.5\n",
              "        11109              1           ...                                 0.5\n",
              "        10246              1           ...                                 NaN\n",
              "        49683              1           ...                                 NaN\n",
              "        43633              1           ...                                 0.5\n",
              "\n",
              "[5 rows x 28 columns]"
            ]
          },
          "metadata": {
            "tags": []
          },
          "execution_count": 17
        }
      ]
    },
    {
      "cell_type": "code",
      "metadata": {
        "id": "6ajiz-GK1oyH",
        "colab_type": "code",
        "outputId": "c989d70a-783d-4665-9d1b-aa5b2954cd23",
        "colab": {}
      },
      "source": [
        "train_df.isnull().sum()"
      ],
      "execution_count": 0,
      "outputs": [
        {
          "output_type": "execute_result",
          "data": {
            "text/plain": [
              "order_id                         0\n",
              "add_to_cart_order                0\n",
              "reordered                        0\n",
              "eval_set                         0\n",
              "order_number                     0\n",
              "order_dow                        0\n",
              "order_hour_of_day                0\n",
              "days_since_prior_order           0\n",
              "prod_num_reorders                9\n",
              "prod_num_orders                  9\n",
              "prod_repeatability               9\n",
              "total_basket_size                0\n",
              "unique_basket_size               0\n",
              "user_num_prior_orders            0\n",
              "reordered_basket_size            0\n",
              "user_avg_frequency               0\n",
              "user_num_orders                  0\n",
              "average_basket_size              0\n",
              "user_repeatability               0\n",
              "product_name                     0\n",
              "aisle_id                         0\n",
              "department_id                    0\n",
              "user_prod_last_order_id     555793\n",
              "user_prod_last_order_num    555793\n",
              "user_prod_num_orders        555793\n",
              "avg_prod_basket_position    555793\n",
              "user_prod_num_reorders      555793\n",
              "user_prod_repeatability     555793\n",
              "dtype: int64"
            ]
          },
          "metadata": {
            "tags": []
          },
          "execution_count": 18
        }
      ]
    },
    {
      "cell_type": "markdown",
      "metadata": {
        "id": "bqt5217k1oyL",
        "colab_type": "text"
      },
      "source": [
        "The NaNs in these variables resulted from user_prod df meaning the user product combination in the training data is new. Verifying it. \n",
        "For imputing these missing values - we can ignore the user_prod_last_order_id,user_prod_last_order_num as we are not using them anywhere now. For rest, \n",
        "Since we've a single order per user, we can replace user_prod_num_orders with 1, avg basket position with the current basked position,user_prod_num_reorders and repeatability as 0\n",
        "\n",
        "9 rows have NaNs on product related columns, which means the product appeared for the first time. Dropping these rows. "
      ]
    },
    {
      "cell_type": "code",
      "metadata": {
        "id": "QSsqQwpX1oyN",
        "colab_type": "code",
        "outputId": "67fa325e-0e66-4771-c003-7bdd1a1ae839",
        "colab": {}
      },
      "source": [
        "train_df[train_df['user_prod_last_order_id'].isnull()].head(5)"
      ],
      "execution_count": 0,
      "outputs": [
        {
          "output_type": "execute_result",
          "data": {
            "text/html": [
              "<div>\n",
              "<style scoped>\n",
              "    .dataframe tbody tr th:only-of-type {\n",
              "        vertical-align: middle;\n",
              "    }\n",
              "\n",
              "    .dataframe tbody tr th {\n",
              "        vertical-align: top;\n",
              "    }\n",
              "\n",
              "    .dataframe thead th {\n",
              "        text-align: right;\n",
              "    }\n",
              "</style>\n",
              "<table border=\"1\" class=\"dataframe\">\n",
              "  <thead>\n",
              "    <tr style=\"text-align: right;\">\n",
              "      <th></th>\n",
              "      <th></th>\n",
              "      <th>order_id</th>\n",
              "      <th>add_to_cart_order</th>\n",
              "      <th>reordered</th>\n",
              "      <th>eval_set</th>\n",
              "      <th>order_number</th>\n",
              "      <th>order_dow</th>\n",
              "      <th>order_hour_of_day</th>\n",
              "      <th>days_since_prior_order</th>\n",
              "      <th>prod_num_reorders</th>\n",
              "      <th>prod_num_orders</th>\n",
              "      <th>prod_repeatability</th>\n",
              "      <th>total_basket_size</th>\n",
              "      <th>unique_basket_size</th>\n",
              "      <th>user_num_prior_orders</th>\n",
              "      <th>reordered_basket_size</th>\n",
              "      <th>user_avg_frequency</th>\n",
              "      <th>user_num_orders</th>\n",
              "      <th>average_basket_size</th>\n",
              "      <th>user_repeatability</th>\n",
              "      <th>product_name</th>\n",
              "      <th>aisle_id</th>\n",
              "      <th>department_id</th>\n",
              "      <th>user_prod_last_order_id</th>\n",
              "      <th>user_prod_last_order_num</th>\n",
              "      <th>user_prod_num_orders</th>\n",
              "      <th>avg_prod_basket_position</th>\n",
              "      <th>user_prod_num_reorders</th>\n",
              "      <th>user_prod_repeatability</th>\n",
              "    </tr>\n",
              "    <tr>\n",
              "      <th>user_id</th>\n",
              "      <th>product_id</th>\n",
              "      <th></th>\n",
              "      <th></th>\n",
              "      <th></th>\n",
              "      <th></th>\n",
              "      <th></th>\n",
              "      <th></th>\n",
              "      <th></th>\n",
              "      <th></th>\n",
              "      <th></th>\n",
              "      <th></th>\n",
              "      <th></th>\n",
              "      <th></th>\n",
              "      <th></th>\n",
              "      <th></th>\n",
              "      <th></th>\n",
              "      <th></th>\n",
              "      <th></th>\n",
              "      <th></th>\n",
              "      <th></th>\n",
              "      <th></th>\n",
              "      <th></th>\n",
              "      <th></th>\n",
              "      <th></th>\n",
              "      <th></th>\n",
              "      <th></th>\n",
              "      <th></th>\n",
              "      <th></th>\n",
              "      <th></th>\n",
              "    </tr>\n",
              "  </thead>\n",
              "  <tbody>\n",
              "    <tr>\n",
              "      <th rowspan=\"4\" valign=\"top\">112108</th>\n",
              "      <th>10246</th>\n",
              "      <td>1</td>\n",
              "      <td>3</td>\n",
              "      <td>0</td>\n",
              "      <td>train</td>\n",
              "      <td>4</td>\n",
              "      <td>4</td>\n",
              "      <td>10</td>\n",
              "      <td>9.0</td>\n",
              "      <td>12498.0</td>\n",
              "      <td>23826.0</td>\n",
              "      <td>0.524553</td>\n",
              "      <td>21</td>\n",
              "      <td>12</td>\n",
              "      <td>3</td>\n",
              "      <td>9</td>\n",
              "      <td>10.333333</td>\n",
              "      <td>4</td>\n",
              "      <td>7.0</td>\n",
              "      <td>0.428571</td>\n",
              "      <td>Organic Celery Hearts</td>\n",
              "      <td>83</td>\n",
              "      <td>4</td>\n",
              "      <td>NaN</td>\n",
              "      <td>NaN</td>\n",
              "      <td>NaN</td>\n",
              "      <td>NaN</td>\n",
              "      <td>NaN</td>\n",
              "      <td>NaN</td>\n",
              "    </tr>\n",
              "    <tr>\n",
              "      <th>49683</th>\n",
              "      <td>1</td>\n",
              "      <td>4</td>\n",
              "      <td>0</td>\n",
              "      <td>train</td>\n",
              "      <td>4</td>\n",
              "      <td>4</td>\n",
              "      <td>10</td>\n",
              "      <td>9.0</td>\n",
              "      <td>67313.0</td>\n",
              "      <td>97315.0</td>\n",
              "      <td>0.691702</td>\n",
              "      <td>21</td>\n",
              "      <td>12</td>\n",
              "      <td>3</td>\n",
              "      <td>9</td>\n",
              "      <td>10.333333</td>\n",
              "      <td>4</td>\n",
              "      <td>7.0</td>\n",
              "      <td>0.428571</td>\n",
              "      <td>Cucumber Kirby</td>\n",
              "      <td>83</td>\n",
              "      <td>4</td>\n",
              "      <td>NaN</td>\n",
              "      <td>NaN</td>\n",
              "      <td>NaN</td>\n",
              "      <td>NaN</td>\n",
              "      <td>NaN</td>\n",
              "      <td>NaN</td>\n",
              "    </tr>\n",
              "    <tr>\n",
              "      <th>13176</th>\n",
              "      <td>1</td>\n",
              "      <td>6</td>\n",
              "      <td>0</td>\n",
              "      <td>train</td>\n",
              "      <td>4</td>\n",
              "      <td>4</td>\n",
              "      <td>10</td>\n",
              "      <td>9.0</td>\n",
              "      <td>315913.0</td>\n",
              "      <td>379450.0</td>\n",
              "      <td>0.832555</td>\n",
              "      <td>21</td>\n",
              "      <td>12</td>\n",
              "      <td>3</td>\n",
              "      <td>9</td>\n",
              "      <td>10.333333</td>\n",
              "      <td>4</td>\n",
              "      <td>7.0</td>\n",
              "      <td>0.428571</td>\n",
              "      <td>Bag of Organic Bananas</td>\n",
              "      <td>24</td>\n",
              "      <td>4</td>\n",
              "      <td>NaN</td>\n",
              "      <td>NaN</td>\n",
              "      <td>NaN</td>\n",
              "      <td>NaN</td>\n",
              "      <td>NaN</td>\n",
              "      <td>NaN</td>\n",
              "    </tr>\n",
              "    <tr>\n",
              "      <th>47209</th>\n",
              "      <td>1</td>\n",
              "      <td>7</td>\n",
              "      <td>0</td>\n",
              "      <td>train</td>\n",
              "      <td>4</td>\n",
              "      <td>4</td>\n",
              "      <td>10</td>\n",
              "      <td>9.0</td>\n",
              "      <td>170131.0</td>\n",
              "      <td>213584.0</td>\n",
              "      <td>0.796553</td>\n",
              "      <td>21</td>\n",
              "      <td>12</td>\n",
              "      <td>3</td>\n",
              "      <td>9</td>\n",
              "      <td>10.333333</td>\n",
              "      <td>4</td>\n",
              "      <td>7.0</td>\n",
              "      <td>0.428571</td>\n",
              "      <td>Organic Hass Avocado</td>\n",
              "      <td>24</td>\n",
              "      <td>4</td>\n",
              "      <td>NaN</td>\n",
              "      <td>NaN</td>\n",
              "      <td>NaN</td>\n",
              "      <td>NaN</td>\n",
              "      <td>NaN</td>\n",
              "      <td>NaN</td>\n",
              "    </tr>\n",
              "    <tr>\n",
              "      <th>79431</th>\n",
              "      <th>39612</th>\n",
              "      <td>36</td>\n",
              "      <td>1</td>\n",
              "      <td>0</td>\n",
              "      <td>train</td>\n",
              "      <td>23</td>\n",
              "      <td>6</td>\n",
              "      <td>18</td>\n",
              "      <td>30.0</td>\n",
              "      <td>250.0</td>\n",
              "      <td>728.0</td>\n",
              "      <td>0.343407</td>\n",
              "      <td>187</td>\n",
              "      <td>101</td>\n",
              "      <td>22</td>\n",
              "      <td>86</td>\n",
              "      <td>15.681818</td>\n",
              "      <td>23</td>\n",
              "      <td>8.5</td>\n",
              "      <td>0.459893</td>\n",
              "      <td>Grated Pecorino Romano Cheese</td>\n",
              "      <td>2</td>\n",
              "      <td>16</td>\n",
              "      <td>NaN</td>\n",
              "      <td>NaN</td>\n",
              "      <td>NaN</td>\n",
              "      <td>NaN</td>\n",
              "      <td>NaN</td>\n",
              "      <td>NaN</td>\n",
              "    </tr>\n",
              "  </tbody>\n",
              "</table>\n",
              "</div>"
            ],
            "text/plain": [
              "                    order_id           ...             user_prod_repeatability\n",
              "user_id product_id                     ...                                    \n",
              "112108  10246              1           ...                                 NaN\n",
              "        49683              1           ...                                 NaN\n",
              "        13176              1           ...                                 NaN\n",
              "        47209              1           ...                                 NaN\n",
              "79431   39612             36           ...                                 NaN\n",
              "\n",
              "[5 rows x 28 columns]"
            ]
          },
          "metadata": {
            "tags": []
          },
          "execution_count": 19
        }
      ]
    },
    {
      "cell_type": "code",
      "metadata": {
        "id": "NwF3OQ4H1oyT",
        "colab_type": "code",
        "outputId": "becafbf5-4047-47b5-b514-5f0470eaeae3",
        "colab": {}
      },
      "source": [
        "prior_orders_extended[(prior_orders_extended['user_id']==112108) & (prior_orders_extended['product_id']==10246)]"
      ],
      "execution_count": 0,
      "outputs": [
        {
          "output_type": "execute_result",
          "data": {
            "text/html": [
              "<div>\n",
              "<style scoped>\n",
              "    .dataframe tbody tr th:only-of-type {\n",
              "        vertical-align: middle;\n",
              "    }\n",
              "\n",
              "    .dataframe tbody tr th {\n",
              "        vertical-align: top;\n",
              "    }\n",
              "\n",
              "    .dataframe thead th {\n",
              "        text-align: right;\n",
              "    }\n",
              "</style>\n",
              "<table border=\"1\" class=\"dataframe\">\n",
              "  <thead>\n",
              "    <tr style=\"text-align: right;\">\n",
              "      <th></th>\n",
              "      <th>order_id</th>\n",
              "      <th>product_id</th>\n",
              "      <th>add_to_cart_order</th>\n",
              "      <th>reordered</th>\n",
              "      <th>user_id</th>\n",
              "      <th>eval_set</th>\n",
              "      <th>order_number</th>\n",
              "      <th>order_dow</th>\n",
              "      <th>order_hour_of_day</th>\n",
              "      <th>days_since_prior_order</th>\n",
              "    </tr>\n",
              "  </thead>\n",
              "  <tbody>\n",
              "  </tbody>\n",
              "</table>\n",
              "</div>"
            ],
            "text/plain": [
              "Empty DataFrame\n",
              "Columns: [order_id, product_id, add_to_cart_order, reordered, user_id, eval_set, order_number, order_dow, order_hour_of_day, days_since_prior_order]\n",
              "Index: []"
            ]
          },
          "metadata": {
            "tags": []
          },
          "execution_count": 20
        }
      ]
    },
    {
      "cell_type": "code",
      "metadata": {
        "id": "W-11ydj_1oyZ",
        "colab_type": "code",
        "outputId": "9c329fe2-e2a9-4ab8-9204-409ea3bc93c5",
        "colab": {}
      },
      "source": [
        "train_df.user_prod_num_orders.fillna(1,inplace=True)\n",
        "train_df.avg_prod_basket_position = train_df.add_to_cart_order.where(\\\n",
        "        train_df.avg_prod_basket_position.isnull(),train_df.avg_prod_basket_position)\n",
        "train_df.user_prod_num_reorders.fillna(0,inplace=True)\n",
        "train_df.user_prod_repeatability.fillna(0,inplace=True)\n",
        "train_df.dropna(subset=['prod_num_orders'],inplace=True,axis=0)\n",
        "train_df.isnull().sum()"
      ],
      "execution_count": 0,
      "outputs": [
        {
          "output_type": "execute_result",
          "data": {
            "text/plain": [
              "order_id                         0\n",
              "add_to_cart_order                0\n",
              "reordered                        0\n",
              "eval_set                         0\n",
              "order_number                     0\n",
              "order_dow                        0\n",
              "order_hour_of_day                0\n",
              "days_since_prior_order           0\n",
              "prod_num_reorders                0\n",
              "prod_num_orders                  0\n",
              "prod_repeatability               0\n",
              "total_basket_size                0\n",
              "unique_basket_size               0\n",
              "user_num_prior_orders            0\n",
              "reordered_basket_size            0\n",
              "user_avg_frequency               0\n",
              "user_num_orders                  0\n",
              "average_basket_size              0\n",
              "user_repeatability               0\n",
              "product_name                     0\n",
              "aisle_id                         0\n",
              "department_id                    0\n",
              "user_prod_last_order_id     555784\n",
              "user_prod_last_order_num    555784\n",
              "user_prod_num_orders             0\n",
              "avg_prod_basket_position         0\n",
              "user_prod_num_reorders           0\n",
              "user_prod_repeatability          0\n",
              "dtype: int64"
            ]
          },
          "metadata": {
            "tags": []
          },
          "execution_count": 21
        }
      ]
    },
    {
      "cell_type": "code",
      "metadata": {
        "_cell_guid": "79c7e3d0-c299-4dcb-8224-4455121ee9b0",
        "_uuid": "d629ff2d2480ee46fbb7e2d37f6b5fab8052498a",
        "id": "hFwoMsTR1oyc",
        "colab_type": "code",
        "colab": {}
      },
      "source": [
        "num_features = ['order_hour_of_day', 'days_since_prior_order', 'total_basket_size',\n",
        "       'unique_basket_size', 'user_num_prior_orders', 'reordered_basket_size','user_avg_frequency', 'user_num_orders',\n",
        "       'average_basket_size', 'user_repeatability',    'user_prod_num_orders', 'avg_prod_basket_position',\n",
        "       'user_prod_num_reorders', 'user_prod_repeatability',\n",
        "       'prod_num_reorders', 'prod_num_orders', 'prod_repeatability']\n",
        "cat_features = ['aisle_id','department_id','order_dow']\n",
        "tot_features = list(set(num_features)|set(cat_features))"
      ],
      "execution_count": 0,
      "outputs": []
    },
    {
      "cell_type": "code",
      "metadata": {
        "id": "eJ3mMrgg1oye",
        "colab_type": "code",
        "outputId": "4836c714-291c-4d74-a25c-b0f6a8ddb16c",
        "colab": {}
      },
      "source": [
        "len(num_features)"
      ],
      "execution_count": 0,
      "outputs": [
        {
          "output_type": "execute_result",
          "data": {
            "text/plain": [
              "17"
            ]
          },
          "metadata": {
            "tags": []
          },
          "execution_count": 23
        }
      ]
    },
    {
      "cell_type": "code",
      "metadata": {
        "id": "3nmw481i1oyh",
        "colab_type": "code",
        "outputId": "105b2c5f-24c2-40b7-e583-f8bc59bf64f0",
        "colab": {}
      },
      "source": [
        "import matplotlib.pyplot as plt\n",
        "import seaborn as sns\n",
        "\n",
        "fig, ax = plt.subplots(nrows = 6, ncols = 3 ,figsize=(30,30))\n",
        "flat_ax = [item for sublist in ax for item in sublist]\n",
        "for i,feature in enumerate(num_features):\n",
        "     sns.distplot(train_df[feature],ax=flat_ax[i])"
      ],
      "execution_count": 0,
      "outputs": [
        {
          "output_type": "stream",
          "text": [
            "/opt/conda/lib/python3.6/site-packages/scipy/stats/stats.py:1713: FutureWarning: Using a non-tuple sequence for multidimensional indexing is deprecated; use `arr[tuple(seq)]` instead of `arr[seq]`. In the future this will be interpreted as an array index, `arr[np.array(seq)]`, which will result either in an error or a different result.\n",
            "  return np.add.reduce(sorted[indexer] * weights, axis=axis) / sumval\n"
          ],
          "name": "stderr"
        },
        {
          "output_type": "display_data",
          "data": {
            "image/png": "[encoded data removed]",
            "text/plain": [
              "<Figure size 2160x2160 with 18 Axes>"
            ]
          },
          "metadata": {
            "tags": []
          }
        }
      ]
    },
    {
      "cell_type": "code",
      "metadata": {
        "id": "gx-TJkyu1oyk",
        "colab_type": "code",
        "outputId": "25189955-79f5-4390-e2c0-567b3735131a",
        "colab": {}
      },
      "source": [
        "def get_normalization_parameters(traindf, features):\n",
        "    \"\"\"Get the normalization parameters (E.g., mean, std) for traindf for \n",
        "    features. We will use these parameters for training, eval, and serving.\"\"\"\n",
        "\n",
        "    def z_score_params(column):\n",
        "        mean = np.float32(traindf[column].mean())\n",
        "        std = np.float32(traindf[column].std())\n",
        "        min = np.float32(traindf[column].min())\n",
        "        max = np.float32(traindf[column].max())\n",
        "\n",
        "        return {'mean': mean, 'std': std,'min':min,'max':max}\n",
        "\n",
        "    normalization_parameters = {}\n",
        "    for column in features:\n",
        "        normalization_parameters[column] = z_score_params(column)\n",
        "    return normalization_parameters\n",
        "#normalization_parameters = get_normalization_parameters(x_train, num_features)\n",
        "normalization_parameters = get_normalization_parameters(train_df, num_features)\n",
        "print(normalization_parameters)"
      ],
      "execution_count": 0,
      "outputs": [
        {
          "output_type": "stream",
          "text": [
            "{'order_hour_of_day': {'mean': 13.577586, 'std': 4.238456, 'min': 0.0, 'max': 23.0}, 'days_since_prior_order': {'mean': 17.066156, 'std': 10.42642, 'min': 0.0, 'max': 30.0}, 'total_basket_size': {'mean': 207.57744, 'std': 247.88081, 'min': 3.0, 'max': 3638.0}, 'unique_basket_size': {'mean': 81.414764, 'std': 62.598648, 'min': 1.0, 'max': 726.0}, 'user_num_prior_orders': {'mean': 16.091412, 'std': 16.614069, 'min': 3.0, 'max': 99.0}, 'reordered_basket_size': {'mean': 126.162674, 'std': 197.51443, 'min': 0.0, 'max': 3167.0}, 'user_avg_frequency': {'mean': 15.318091, 'std': 6.795476, 'min': 0.0, 'max': 30.0}, 'user_num_orders': {'mean': 17.091412, 'std': 16.614069, 'min': 4.0, 'max': 100.0}, 'average_basket_size': {'mean': 12.952141, 'std': 6.7662363, 'min': 1.0, 'max': 70.25}, 'user_repeatability': {'mean': 0.44721356, 'std': 0.20843686, 'min': 0.0, 'max': 0.9895288}, 'user_prod_num_orders': {'mean': 3.462198, 'std': 5.584559, 'min': 1.0, 'max': 99.0}, 'avg_prod_basket_position': {'mean': 9.019974, 'std': 7.0168867, 'min': 1.0, 'max': 120.0}, 'user_prod_num_reorders': {'mean': 2.462198, 'std': 5.584559, 'min': 0.0, 'max': 98.0}, 'user_prod_repeatability': {'mean': 0.31209534, 'std': 0.37717968, 'min': 0.0, 'max': 0.989899}, 'prod_num_reorders': {'mean': 25363.496, 'std': 63526.51, 'min': 0.0, 'max': 398609.0}, 'prod_num_orders': {'mean': 34345.383, 'std': 77656.19, 'min': 1.0, 'max': 472565.0}, 'prod_repeatability': {'mean': 0.57896125, 'std': 0.15332541, 'min': 0.0, 'max': 0.9411765}}\n"
          ],
          "name": "stdout"
        }
      ]
    },
    {
      "cell_type": "code",
      "metadata": {
        "id": "NoGbv8n01oym",
        "colab_type": "code",
        "outputId": "63093d41-72c0-46c9-a450-c5b092ec9bfc",
        "colab": {}
      },
      "source": [
        "num_features_s = []\n",
        "for feature in num_features:\n",
        "    train_df[feature+'_s'] = (train_df[feature]-normalization_parameters[feature]['min'])/(normalization_parameters[feature]['max']-normalization_parameters[feature]['min'])\n",
        "    num_features_s.extend([feature+'_s'])\n",
        "    print(feature)\n",
        "tot_features_s = list(set(num_features_s)|set(cat_features))    "
      ],
      "execution_count": 0,
      "outputs": [
        {
          "output_type": "stream",
          "text": [
            "order_hour_of_day\n",
            "days_since_prior_order\n",
            "total_basket_size\n",
            "unique_basket_size\n",
            "user_num_prior_orders\n",
            "reordered_basket_size\n",
            "user_avg_frequency\n",
            "user_num_orders\n",
            "average_basket_size\n",
            "user_repeatability\n",
            "user_prod_num_orders\n",
            "avg_prod_basket_position\n",
            "user_prod_num_reorders\n",
            "user_prod_repeatability\n",
            "prod_num_reorders\n",
            "prod_num_orders\n",
            "prod_repeatability\n"
          ],
          "name": "stdout"
        }
      ]
    },
    {
      "cell_type": "code",
      "metadata": {
        "id": "kG-cMar01oyo",
        "colab_type": "code",
        "colab": {}
      },
      "source": [
        "from sklearn.model_selection import train_test_split\n",
        "x_train, x_eval, y_train, y_eval = train_test_split(train_df[tot_features_s], train_df['reordered'], test_size=0.2)"
      ],
      "execution_count": 0,
      "outputs": []
    },
    {
      "cell_type": "code",
      "metadata": {
        "id": "YNQlVVF-1oyr",
        "colab_type": "code",
        "colab": {}
      },
      "source": [
        "del train_df,all_orders,prior_orders_extended,prior_orders,train_set,all_products"
      ],
      "execution_count": 0,
      "outputs": []
    },
    {
      "cell_type": "code",
      "metadata": {
        "id": "lEQ41q-K1oyt",
        "colab_type": "code",
        "colab": {}
      },
      "source": [
        "import tensorflow as tf\n",
        "\n",
        "tf.enable_eager_execution()\n",
        "\n",
        "tf.logging.set_verbosity(tf.logging.ERROR)\n",
        "tf.set_random_seed(123)"
      ],
      "execution_count": 0,
      "outputs": []
    },
    {
      "cell_type": "code",
      "metadata": {
        "id": "461EYaEw1oyy",
        "colab_type": "code",
        "colab": {}
      },
      "source": [
        "fc = tf.feature_column\n",
        "all_features = []\n",
        "\n",
        "def std_scaler(feature,mean,std):\n",
        "      return (feature - mean)/std\n",
        "\n",
        "for feature_name in cat_features:\n",
        "  # Need to one-hot encode categorical features.\n",
        "    vocabulary = x_train[feature_name].unique()\n",
        "    all_features.append(fc.indicator_column(\n",
        "      fc.categorical_column_with_vocabulary_list(feature_name,vocabulary)))\n",
        "\n",
        "for feature_name in num_features_s:\n",
        "#     fet_mean = normalization_parameters[feature_name]['mean']\n",
        "#     fet_std = normalization_parameters[feature_name]['std']\n",
        "    all_features.append(fc.numeric_column(feature_name,dtype=tf.float32,\\\n",
        "           # normalizer_fn=lambda x:((x-fet_mean)/fet_std)\\\n",
        "                       ))\n",
        "#Normalizing is creating a problem - check later"
      ],
      "execution_count": 0,
      "outputs": []
    },
    {
      "cell_type": "code",
      "metadata": {
        "id": "-hrGr8Dw1oy2",
        "colab_type": "code",
        "outputId": "2915e1de-f779-46b6-e22f-b5c278d6be6b",
        "colab": {}
      },
      "source": [
        "print(len(all_features))\n",
        "all_features"
      ],
      "execution_count": 0,
      "outputs": [
        {
          "output_type": "stream",
          "text": [
            "20\n"
          ],
          "name": "stdout"
        },
        {
          "output_type": "execute_result",
          "data": {
            "text/plain": [
              "[IndicatorColumn(categorical_column=VocabularyListCategoricalColumn(key='aisle_id', vocabulary_list=(36, 24, 77, 19, 66, 67, 116, 114, 93, 83, 59, 78, 37, 122, 131, 96, 38, 120, 54, 45, 75, 57, 121, 21, 4, 98, 123, 94, 3, 32, 105, 49, 112, 43, 53, 81, 69, 107, 14, 85, 30, 23, 91, 110, 86, 115, 108, 119, 117, 16, 92, 31, 6, 61, 101, 84, 74, 26, 13, 15, 106, 88, 129, 111, 72, 17, 128, 46, 70, 130, 51, 100, 89, 41, 64, 52, 80, 9, 63, 35, 12, 65, 25, 56, 99, 125, 42, 73, 20, 5, 48, 50, 104, 79, 60, 1, 27, 76, 33, 28, 40, 2, 47, 71, 8, 113, 62, 11, 34, 29, 97, 133, 127, 7, 134, 39, 103, 95, 87, 124, 22, 44, 10, 55, 109, 68, 132, 90, 18, 58, 82, 102, 118, 126), dtype=tf.int64, default_value=-1, num_oov_buckets=0)),\n",
              " IndicatorColumn(categorical_column=VocabularyListCategoricalColumn(key='department_id', vocabulary_list=(16, 4, 7, 13, 6, 20, 1, 17, 3, 15, 19, 12, 9, 14, 18, 2, 11, 21, 8, 5, 10), dtype=tf.int64, default_value=-1, num_oov_buckets=0)),\n",
              " IndicatorColumn(categorical_column=VocabularyListCategoricalColumn(key='order_dow', vocabulary_list=(4, 1, 5, 0, 6, 2, 3), dtype=tf.int64, default_value=-1, num_oov_buckets=0)),\n",
              " NumericColumn(key='order_hour_of_day_s', shape=(1,), default_value=None, dtype=tf.float32, normalizer_fn=None),\n",
              " NumericColumn(key='days_since_prior_order_s', shape=(1,), default_value=None, dtype=tf.float32, normalizer_fn=None),\n",
              " NumericColumn(key='total_basket_size_s', shape=(1,), default_value=None, dtype=tf.float32, normalizer_fn=None),\n",
              " NumericColumn(key='unique_basket_size_s', shape=(1,), default_value=None, dtype=tf.float32, normalizer_fn=None),\n",
              " NumericColumn(key='user_num_prior_orders_s', shape=(1,), default_value=None, dtype=tf.float32, normalizer_fn=None),\n",
              " NumericColumn(key='reordered_basket_size_s', shape=(1,), default_value=None, dtype=tf.float32, normalizer_fn=None),\n",
              " NumericColumn(key='user_avg_frequency_s', shape=(1,), default_value=None, dtype=tf.float32, normalizer_fn=None),\n",
              " NumericColumn(key='user_num_orders_s', shape=(1,), default_value=None, dtype=tf.float32, normalizer_fn=None),\n",
              " NumericColumn(key='average_basket_size_s', shape=(1,), default_value=None, dtype=tf.float32, normalizer_fn=None),\n",
              " NumericColumn(key='user_repeatability_s', shape=(1,), default_value=None, dtype=tf.float32, normalizer_fn=None),\n",
              " NumericColumn(key='user_prod_num_orders_s', shape=(1,), default_value=None, dtype=tf.float32, normalizer_fn=None),\n",
              " NumericColumn(key='avg_prod_basket_position_s', shape=(1,), default_value=None, dtype=tf.float32, normalizer_fn=None),\n",
              " NumericColumn(key='user_prod_num_reorders_s', shape=(1,), default_value=None, dtype=tf.float32, normalizer_fn=None),\n",
              " NumericColumn(key='user_prod_repeatability_s', shape=(1,), default_value=None, dtype=tf.float32, normalizer_fn=None),\n",
              " NumericColumn(key='prod_num_reorders_s', shape=(1,), default_value=None, dtype=tf.float32, normalizer_fn=None),\n",
              " NumericColumn(key='prod_num_orders_s', shape=(1,), default_value=None, dtype=tf.float32, normalizer_fn=None),\n",
              " NumericColumn(key='prod_repeatability_s', shape=(1,), default_value=None, dtype=tf.float32, normalizer_fn=None)]"
            ]
          },
          "metadata": {
            "tags": []
          },
          "execution_count": 31
        }
      ]
    },
    {
      "cell_type": "code",
      "metadata": {
        "id": "SCO6_Tne1oy6",
        "colab_type": "code",
        "colab": {}
      },
      "source": [
        "example = x_train.head(1)"
      ],
      "execution_count": 0,
      "outputs": []
    },
    {
      "cell_type": "code",
      "metadata": {
        "id": "-geFc8nL1oy-",
        "colab_type": "code",
        "outputId": "f45aa6cf-9ca2-4205-9881-2cd8059548b4",
        "colab": {}
      },
      "source": [
        "fc.input_layer(dict(example), all_features)"
      ],
      "execution_count": 0,
      "outputs": [
        {
          "output_type": "execute_result",
          "data": {
            "text/plain": [
              "<tf.Tensor: id=317, shape=(1, 179), dtype=float32, numpy=\n",
              "array([[1.        , 0.        , 0.        , 0.        , 0.        ,\n",
              "        0.        , 0.        , 0.        , 0.        , 0.        ,\n",
              "        0.        , 0.        , 0.        , 0.        , 0.        ,\n",
              "        0.        , 0.        , 0.        , 0.        , 0.        ,\n",
              "        0.        , 0.        , 0.        , 0.        , 0.        ,\n",
              "        0.        , 0.        , 0.        , 0.        , 0.        ,\n",
              "        0.        , 0.        , 0.        , 0.        , 0.        ,\n",
              "        0.        , 0.        , 0.        , 0.        , 0.        ,\n",
              "        0.        , 0.        , 0.        , 0.        , 0.        ,\n",
              "        0.        , 0.        , 0.        , 0.        , 0.        ,\n",
              "        0.        , 0.        , 0.        , 0.        , 0.        ,\n",
              "        0.        , 0.        , 0.        , 0.        , 0.        ,\n",
              "        0.        , 0.        , 0.        , 0.        , 0.        ,\n",
              "        0.        , 0.        , 0.        , 0.        , 0.        ,\n",
              "        0.        , 0.        , 0.        , 0.        , 0.        ,\n",
              "        0.        , 0.        , 0.        , 0.        , 0.        ,\n",
              "        0.        , 0.        , 0.        , 0.        , 0.        ,\n",
              "        0.        , 0.        , 0.        , 0.        , 0.        ,\n",
              "        0.        , 0.        , 0.        , 0.        , 0.        ,\n",
              "        0.        , 0.        , 0.        , 0.        , 0.        ,\n",
              "        0.        , 0.        , 0.        , 0.        , 0.        ,\n",
              "        0.        , 0.        , 0.        , 0.        , 0.        ,\n",
              "        0.        , 0.        , 0.        , 0.        , 0.        ,\n",
              "        0.        , 0.        , 0.        , 0.        , 0.        ,\n",
              "        0.        , 0.        , 0.        , 0.        , 0.        ,\n",
              "        0.        , 0.        , 0.        , 0.        , 0.        ,\n",
              "        0.        , 0.        , 0.        , 0.        , 0.2908716 ,\n",
              "        0.        , 0.5       , 1.        , 0.        , 0.        ,\n",
              "        0.        , 0.        , 0.        , 0.        , 0.        ,\n",
              "        0.        , 0.        , 0.        , 0.        , 0.        ,\n",
              "        0.        , 0.        , 0.        , 0.        , 0.        ,\n",
              "        0.        , 0.        , 0.        , 1.        , 0.        ,\n",
              "        0.        , 0.        , 0.        , 0.        , 0.        ,\n",
              "        0.4347826 , 0.01457792, 0.00936758, 0.5758164 , 0.01736659,\n",
              "        0.03988996, 0.12689655, 0.53809524, 0.04166667, 0.04166667,\n",
              "        0.        , 0.        , 0.        , 0.37555414]], dtype=float32)>"
            ]
          },
          "metadata": {
            "tags": []
          },
          "execution_count": 33
        }
      ]
    },
    {
      "cell_type": "code",
      "metadata": {
        "id": "ekanRpbY1ozC",
        "colab_type": "code",
        "outputId": "75cd87ba-0877-4936-8a57-2292f142dd79",
        "colab": {}
      },
      "source": [
        "x_train.shape,x_eval.shape"
      ],
      "execution_count": 0,
      "outputs": [
        {
          "output_type": "execute_result",
          "data": {
            "text/plain": [
              "((1107686, 20), (276922, 20))"
            ]
          },
          "metadata": {
            "tags": []
          },
          "execution_count": 34
        }
      ]
    },
    {
      "cell_type": "code",
      "metadata": {
        "id": "51rCKDmg1ozG",
        "colab_type": "code",
        "colab": {}
      },
      "source": [
        "NUM_EXAMPLES = len(y_train) #1107693\n",
        "\n",
        "def make_input_fn(X, y, n_epochs=None, shuffle=True):\n",
        "    def input_fn():\n",
        "        dataset = tf.data.Dataset.from_tensor_slices((dict(X), y))\n",
        "        if shuffle:\n",
        "          dataset = dataset.shuffle(NUM_EXAMPLES)\n",
        "        # For training, cycle thru dataset as many times as need (n_epochs=None).    \n",
        "        dataset = dataset.repeat(n_epochs)  \n",
        "        # In memory training doesn't use batching.\n",
        "        dataset = dataset.batch(NUM_EXAMPLES)\n",
        "        return dataset\n",
        "    return input_fn\n",
        "\n",
        "train_input_fn = make_input_fn(x_train.head(800), y_train.head(800))\n",
        "eval_input_fn = make_input_fn(x_eval.head(1000), y_eval.head(1000), shuffle=False, n_epochs=1)"
      ],
      "execution_count": 0,
      "outputs": []
    },
    {
      "cell_type": "code",
      "metadata": {
        "id": "dBseRaN11ozK",
        "colab_type": "code",
        "outputId": "f5478efc-81f2-4d78-d687-52e59bb44959",
        "colab": {}
      },
      "source": [
        "linear_est = tf.estimator.LinearClassifier(all_features)\n",
        "\n",
        "# Train model.\n",
        "linear_est.train(train_input_fn, max_steps=10)\n",
        "\n",
        "# Evaluation.\n",
        "results = linear_est.evaluate(eval_input_fn)\n",
        "print('Accuracy : ', results['accuracy'])\n",
        "print('Dummy model: ', results['accuracy_baseline'])"
      ],
      "execution_count": 0,
      "outputs": [
        {
          "output_type": "stream",
          "text": [
            "Accuracy :  0.684\n",
            "Dummy model:  0.592\n"
          ],
          "name": "stdout"
        }
      ]
    },
    {
      "cell_type": "code",
      "metadata": {
        "id": "rZVhZ-1Y1ozR",
        "colab_type": "code",
        "colab": {}
      },
      "source": [
        "def populate_features(df,chosen_features):\n",
        "    df_new = df.merge(cust_attribs,how='left',on='user_id').\\\n",
        "        merge(user_prod_attribs,how='left',on='user_id').\\\n",
        "        merge(prod_attribs,how='left',on='product_id').\\\n",
        "        merge(train_set,how='left',on=['order_id','product_id']).\\\n",
        "        merge(all_products,how='left',on='product_id')\n",
        "    return df_new[chosen_features]"
      ],
      "execution_count": 0,
      "outputs": []
    }
  ]
}
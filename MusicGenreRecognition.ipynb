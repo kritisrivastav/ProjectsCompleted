{
 "cells": [
  {
   "cell_type": "code",
   "execution_count": 33,
   "metadata": {},
   "outputs": [
    {
     "name": "stdout",
     "output_type": "stream",
     "text": [
      "[1 1 1 1 1 1 1 1 1 1 1 1 1 1 1 1 1 1 1 1 1 1 1 1 1 1 1 1 1 1 1 1 1 1 1 1 1\n",
      " 1 1 1 1 1 1 1 1 1 1 1 1 1 1 1 1 1 1 1 1 1 1 1 1 1 1 1 2 2 2 2 2 2 2 2 2 2\n",
      " 2 2 2 2 2 2 2 2 2 2 2 2 2 2 2 2 2 2 2 2 2 2 2 2 2 2 2 2 2 2 2 2 2 2 2 2 2\n",
      " 2 2 2 2 2 2 2 2 2 2 2 2 2 2 2 2 2 3 3 3 3 3 3 3 3 3 3 3 3 3 3 3 3 3 3 3 3\n",
      " 3 3 3 3 3 3 3 3 3 3 3 3 3 3 3 3 3 3 3 3 3 3 3 3 3 3 3 3 3 3 3 3 3 3 3 3 3\n",
      " 3 3 3 3 3 3 3 0 0 0 0 0 0 0 0 0 0 0 0 0 0 0 0 0 0 0 0 0 0 0 0 0 0 0 0 0 0\n",
      " 0 0 0 0 0 0 0 0 0 0 0 0 0 0 0 0 0 0 0 0 0 0 0 0 0 0 0 0 0 0 0 0 0 0]\n"
     ]
    }
   ],
   "source": [
    "import glob\n",
    "import os\n",
    "import matplotlib\n",
    "# to define plot backends, pick one of those: Agg, Qt4Agg, TkAgg\n",
    "matplotlib.use('TkAgg')\n",
    "import librosa\n",
    "import numpy as np\n",
    "import matplotlib.pyplot as plt\n",
    "import tensorflow as tf\n",
    "from sklearn.metrics import precision_recall_fscore_support  \n",
    "\n",
    "######################### Helper Methods ################################\n",
    "\n",
    "def loadMusics(filePath):\n",
    "\tmusics = []\n",
    "\tfor path in filePath:\n",
    "\t\tX, sr = librosa.load(path)\n",
    "\t\tmusics.append(X)\n",
    "\treturn musics\n",
    "\n",
    "def featureExtraction(fileName):\n",
    "\traw, rate = librosa.load(fileName)\n",
    "\tstft = np.abs(librosa.stft(raw))\n",
    "\tmfcc = np.mean(librosa.feature.mfcc(y=raw,sr=rate,n_mfcc=40).T, axis=0)\n",
    "\tchroma = np.mean(librosa.feature.chroma_stft(S=stft, sr=rate).T, axis=0)  #barakhadi\n",
    "\tmel = np.mean(librosa.feature.melspectrogram(raw, sr=rate).T, axis=0)\n",
    "\tcontrast = np.mean(librosa.feature.spectral_contrast(S=stft, sr=rate).T, axis=0)\n",
    "\ttonnetz = np.mean(librosa.feature.tonnetz(y=librosa.effects.harmonic(raw), sr=rate).T, axis=0)\n",
    "\treturn mfcc, chroma, mel, contrast, tonnetz\n",
    "\n",
    "# Takes parent directory name, subdirectories within parent directory, and file extension as input. \n",
    "def parseAudio(parentDirectory, subDirectories, fileExtension=\"*.au\"):\n",
    "\tfeatures, labels = np.empty((0,193)), np.empty(0)\n",
    "\tfor subDir in subDirectories:\n",
    "\t\tfor fn in glob.glob(os.path.join(parentDirectory, subDir, fileExtension)):\n",
    "\t\t\tmfcc, chroma, mel, contrast, tonnetz = featureExtraction(fn)\n",
    "\t\t\ttempFeatures = np.hstack([mfcc, chroma, mel, contrast, tonnetz])\n",
    "\t\t\tfeatures = np.vstack([features, tempFeatures])\n",
    "\t\t\t# pop = 1, jazz = 2, metal = 3, rock = 0\n",
    "\t\t\tif subDir == \"pop\":\n",
    "\t\t\t\tlabels = np.append(labels,1)\n",
    "\t\t\telif subDir == \"jazz\":\n",
    "\t\t\t\tlabels = np.append(labels,2)\n",
    "\t\t\telif subDir == \"metal\":\n",
    "\t\t\t\tlabels = np.append(labels,3)\n",
    "\t\t\telse : # Corresponds to \"rock\"\n",
    "\t\t\t\tlabels = np.append(labels,0)\n",
    "\treturn np.array(features), np.array(labels, dtype=np.int)\n",
    "\n",
    "#splitting into training testing\n",
    "training = \"C:\\\\Users\\\\Ameya\\\\Desktop\\\\projectsem4\\\\trainzip\"\n",
    "test = \"C:\\\\Users\\\\Ameya\\\\Desktop\\\\projectsem4\\\\testzip\"\n",
    "\n",
    "subDirectories = [\"pop\", \"jazz\", \"metal\", \"rock\"]\n",
    "trainingFeatures, trainingLabels = parseAudio(training, subDirectories)\n",
    "print(trainingLabels)\n",
    "# Test Labels [1 1 2 2 3 3 0 0]\n",
    "testFeatures, testLabels = parseAudio(test, subDirectories)\n",
    "\n",
    "\n",
    "\t\n",
    "def oneHotEncoder(labels):\n",
    "\tn = len(labels)\n",
    "\tnUnique = len(np.unique(labels))\n",
    "\tencoder = np.zeros((n, nUnique))\n",
    "\tencoder[np.arange(n), labels] = 1\n",
    "\treturn encoder\n",
    "\n",
    "trainingLabels = oneHotEncoder(trainingLabels)\n",
    "testLabels = oneHotEncoder(testLabels)\n",
    "\n",
    "epochs = 5000\n",
    "# trainingFeatures is a 32 x 193 matrix\n",
    "nDim = trainingFeatures.shape[1]#Number of columns in the training features\n",
    "nClasses = 4\n",
    "nHiddenUnitsOne = 280\t\n",
    "nHiddenUnitsTwo = 300\n",
    "sd = 1 / np.sqrt(nDim)\n",
    "learningRate = 0.01\n",
    "\n",
    "\n",
    "X = tf.placeholder(tf.float32,[None,nDim])#nDim is the number of frames\n",
    "Y = tf.placeholder(tf.float32,[None,nClasses])#nClasses is the number of genres"
   ]
  },
  {
   "cell_type": "code",
   "execution_count": 34,
   "metadata": {},
   "outputs": [
    {
     "data": {
      "text/plain": [
       "<tf.Tensor 'Placeholder_4:0' shape=(?, 193) dtype=float32>"
      ]
     },
     "execution_count": 34,
     "metadata": {},
     "output_type": "execute_result"
    }
   ],
   "source": [
    "X"
   ]
  },
  {
   "cell_type": "code",
   "execution_count": 35,
   "metadata": {},
   "outputs": [
    {
     "data": {
      "text/plain": [
       "<tf.Tensor 'Placeholder_5:0' shape=(?, 4) dtype=float32>"
      ]
     },
     "execution_count": 35,
     "metadata": {},
     "output_type": "execute_result"
    }
   ],
   "source": [
    "Y"
   ]
  },
  {
   "cell_type": "code",
   "execution_count": 36,
   "metadata": {},
   "outputs": [],
   "source": [
    "W1 = tf.Variable(tf.random_normal([nDim,nHiddenUnitsOne], mean = 0, stddev=sd))\n",
    "b1 = tf.Variable(tf.random_normal([nHiddenUnitsOne], mean = 0, stddev=sd))\n",
    "h1 = tf.nn.tanh(tf.matmul(X,W1) + b1)"
   ]
  },
  {
   "cell_type": "code",
   "execution_count": 37,
   "metadata": {},
   "outputs": [
    {
     "data": {
      "text/plain": [
       "<tf.Variable 'Variable_12:0' shape=(193, 280) dtype=float32_ref>"
      ]
     },
     "execution_count": 37,
     "metadata": {},
     "output_type": "execute_result"
    }
   ],
   "source": [
    "W1"
   ]
  },
  {
   "cell_type": "code",
   "execution_count": 38,
   "metadata": {},
   "outputs": [
    {
     "data": {
      "text/plain": [
       "<tf.Variable 'Variable_13:0' shape=(280,) dtype=float32_ref>"
      ]
     },
     "execution_count": 38,
     "metadata": {},
     "output_type": "execute_result"
    }
   ],
   "source": [
    "b1"
   ]
  },
  {
   "cell_type": "code",
   "execution_count": 39,
   "metadata": {},
   "outputs": [
    {
     "data": {
      "text/plain": [
       "<tf.Tensor 'Tanh_2:0' shape=(?, 280) dtype=float32>"
      ]
     },
     "execution_count": 39,
     "metadata": {},
     "output_type": "execute_result"
    }
   ],
   "source": [
    "h1"
   ]
  },
  {
   "cell_type": "code",
   "execution_count": 40,
   "metadata": {},
   "outputs": [],
   "source": [
    "W2 = tf.Variable(tf.random_normal([nHiddenUnitsOne,nHiddenUnitsTwo], mean = 0, stddev=sd))\n",
    "b2 = tf.Variable(tf.random_normal([nHiddenUnitsTwo], mean = 0, stddev=sd))\n",
    "h2 = tf.nn.sigmoid(tf.matmul(h1,W2) + b2)"
   ]
  },
  {
   "cell_type": "code",
   "execution_count": 41,
   "metadata": {},
   "outputs": [],
   "source": [
    "W = tf.Variable(tf.random_normal([nHiddenUnitsTwo,nClasses], mean = 0, stddev=sd))\n",
    "b = tf.Variable(tf.random_normal([nClasses], mean = 0, stddev=sd))\n",
    "y = tf.nn.softmax(tf.matmul(h2,W) + b)"
   ]
  },
  {
   "cell_type": "code",
   "execution_count": 42,
   "metadata": {},
   "outputs": [],
   "source": [
    "\n",
    "init = tf.global_variables_initializer()\n",
    "\n",
    "costFunction = tf.reduce_mean(-tf.reduce_sum(Y * tf.log(y), reduction_indices=[1])) "
   ]
  },
  {
   "cell_type": "code",
   "execution_count": 43,
   "metadata": {},
   "outputs": [
    {
     "data": {
      "text/plain": [
       "<tf.Tensor 'Mean_6:0' shape=() dtype=float32>"
      ]
     },
     "execution_count": 43,
     "metadata": {},
     "output_type": "execute_result"
    }
   ],
   "source": [
    "costFunction"
   ]
  },
  {
   "cell_type": "code",
   "execution_count": 44,
   "metadata": {},
   "outputs": [],
   "source": [
    "costFunction = tf.reduce_mean(-tf.reduce_sum(Y * tf.log(y),axis=1)) \n",
    "optimizer = tf.train.GradientDescentOptimizer(learningRate).minimize(costFunction)"
   ]
  },
  {
   "cell_type": "code",
   "execution_count": 45,
   "metadata": {},
   "outputs": [],
   "source": [
    "\n",
    "correctPrediction = tf.equal(tf.argmax(y,1), tf.argmax(Y,1))\n",
    "accuracy = tf.reduce_mean(tf.cast(correctPrediction, tf.float32))"
   ]
  },
  {
   "cell_type": "code",
   "execution_count": 46,
   "metadata": {},
   "outputs": [],
   "source": [
    "costHistory = np.empty(shape=[1],dtype=float)\n",
    "yTrue, yPred = None, None\n",
    "with tf.Session() as sess:\n",
    "    sess.run(init)\n",
    "    for epoch in range(epochs):            \n",
    "        cost = sess.run([optimizer,costFunction],feed_dict={X:trainingFeatures,Y:trainingLabels})\n",
    "        costHistory = np.append(costHistory,cost)\n",
    "    \n",
    "    yPred = sess.run(tf.argmax(y,1),feed_dict={X: testFeatures})\n",
    "    yTrue = sess.run(tf.argmax(testLabels,1))"
   ]
  },
  {
   "cell_type": "code",
   "execution_count": 49,
   "metadata": {},
   "outputs": [
    {
     "name": "stdout",
     "output_type": "stream",
     "text": [
      "F-Score: 75.0\n",
      "TLabels: [1 1 1 1 1 1 1 1 1 1 1 1 1 1 1 1 2 2 2 2 2 2 2 2 2 2 2 2 2 2 2 2 3 3 3 3 3\n",
      " 3 3 3 3 3 3 3 3 3 3 3 0 0 0 0 0 0 0 0 0 0 0 0 0 0 0 0]\n",
      "PLabels: [1 1 1 1 2 1 1 1 2 1 1 1 1 1 1 2 2 2 1 2 2 2 2 2 2 0 0 1 0 0 2 0 3 3 3 3 3\n",
      " 3 2 3 3 3 3 3 3 3 3 3 0 3 2 0 3 2 2 0 0 0 0 0 0 0 0 0]\n"
     ]
    }
   ],
   "source": [
    "p,r,f,s = precision_recall_fscore_support(yTrue, yPred, average='micro')\n",
    "print (\"F-Score:\", round(f,3)*100)\n",
    "print(\"TLabels:\", yTrue)\n",
    "print(\"PLabels:\", yPred)"
   ]
  },
  {
   "cell_type": "code",
   "execution_count": 48,
   "metadata": {},
   "outputs": [
    {
     "name": "stdout",
     "output_type": "stream",
     "text": [
      "[[11  0  3  2]\n",
      " [ 0 13  3  0]\n",
      " [ 5  2  9  0]\n",
      " [ 0  0  1 15]]\n"
     ]
    }
   ],
   "source": [
    "from sklearn.metrics import confusion_matrix\n",
    "m = confusion_matrix(yTrue, yPred)\n",
    "print(m)"
   ]
  },
  {
   "cell_type": "code",
   "execution_count": 50,
   "metadata": {},
   "outputs": [
    {
     "name": "stdout",
     "output_type": "stream",
     "text": [
      "F-Score: 75.0\n"
     ]
    }
   ],
   "source": [
    "print (\"F-Score:\", round(f,3)*100)"
   ]
  },
  {
   "cell_type": "code",
   "execution_count": null,
   "metadata": {},
   "outputs": [],
   "source": []
  }
 ],
 "metadata": {
  "kernelspec": {
   "display_name": "Python 3",
   "language": "python",
   "name": "python3"
  },
  "language_info": {
   "codemirror_mode": {
    "name": "ipython",
    "version": 3
   },
   "file_extension": ".py",
   "mimetype": "text/x-python",
   "name": "python",
   "nbconvert_exporter": "python",
   "pygments_lexer": "ipython3",
   "version": "3.7.0"
  }
 },
 "nbformat": 4,
 "nbformat_minor": 2
}
